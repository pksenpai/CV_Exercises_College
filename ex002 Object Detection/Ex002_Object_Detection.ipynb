{
  "cells": [
    {
      "cell_type": "code",
      "execution_count": 1,
      "metadata": {
        "colab": {
          "base_uri": "https://localhost:8080/"
        },
        "id": "28MCoFFaZG6_",
        "outputId": "56b75f47-9d5e-4127-a0eb-c21d91f8208d"
      },
      "outputs": [
        {
          "output_type": "stream",
          "name": "stdout",
          "text": [
            "Mounted at /content/drive\n"
          ]
        }
      ],
      "source": [
        "from google.colab import drive\n",
        "drive.mount('/content/drive')"
      ]
    },
    {
      "cell_type": "code",
      "execution_count": 2,
      "metadata": {
        "colab": {
          "base_uri": "https://localhost:8080/"
        },
        "id": "j5niziOujgZj",
        "outputId": "42b46fd0-9c5c-4a70-adb0-36bf8b0565e1"
      },
      "outputs": [
        {
          "output_type": "stream",
          "name": "stdout",
          "text": [
            "\u001b[2K   \u001b[90m━━━━━━━━━━━━━━━━━━━━━━━━━━━━━━━━━━━━━━━━\u001b[0m \u001b[32m135.7/135.7 kB\u001b[0m \u001b[31m1.6 MB/s\u001b[0m eta \u001b[36m0:00:00\u001b[0m\n",
            "\u001b[2K   \u001b[90m━━━━━━━━━━━━━━━━━━━━━━━━━━━━━━━━━━━━━━━━\u001b[0m \u001b[32m49.9/49.9 MB\u001b[0m \u001b[31m23.3 MB/s\u001b[0m eta \u001b[36m0:00:00\u001b[0m\n",
            "\u001b[?25hCollecting ultralytics\n",
            "  Downloading ultralytics-8.2.79-py3-none-any.whl.metadata (41 kB)\n",
            "\u001b[2K     \u001b[90m━━━━━━━━━━━━━━━━━━━━━━━━━━━━━━━━━━━━━━━━\u001b[0m \u001b[32m41.3/41.3 kB\u001b[0m \u001b[31m713.8 kB/s\u001b[0m eta \u001b[36m0:00:00\u001b[0m\n",
            "\u001b[?25hRequirement already satisfied: numpy<2.0.0,>=1.23.0 in /usr/local/lib/python3.10/dist-packages (from ultralytics) (1.26.4)\n",
            "Requirement already satisfied: matplotlib>=3.3.0 in /usr/local/lib/python3.10/dist-packages (from ultralytics) (3.7.1)\n",
            "Requirement already satisfied: opencv-python>=4.6.0 in /usr/local/lib/python3.10/dist-packages (from ultralytics) (4.10.0.84)\n",
            "Requirement already satisfied: pillow>=7.1.2 in /usr/local/lib/python3.10/dist-packages (from ultralytics) (10.4.0)\n",
            "Requirement already satisfied: pyyaml>=5.3.1 in /usr/local/lib/python3.10/dist-packages (from ultralytics) (6.0.2)\n",
            "Requirement already satisfied: requests>=2.23.0 in /usr/local/lib/python3.10/dist-packages (from ultralytics) (2.32.3)\n",
            "Requirement already satisfied: scipy>=1.4.1 in /usr/local/lib/python3.10/dist-packages (from ultralytics) (1.13.1)\n",
            "Requirement already satisfied: torch>=1.8.0 in /usr/local/lib/python3.10/dist-packages (from ultralytics) (2.3.0+cpu)\n",
            "Requirement already satisfied: torchvision>=0.9.0 in /usr/local/lib/python3.10/dist-packages (from ultralytics) (0.18.0+cpu)\n",
            "Requirement already satisfied: tqdm>=4.64.0 in /usr/local/lib/python3.10/dist-packages (from ultralytics) (4.66.5)\n",
            "Requirement already satisfied: psutil in /usr/local/lib/python3.10/dist-packages (from ultralytics) (5.9.5)\n",
            "Collecting py-cpuinfo (from ultralytics)\n",
            "  Downloading py_cpuinfo-9.0.0-py3-none-any.whl.metadata (794 bytes)\n",
            "Requirement already satisfied: pandas>=1.1.4 in /usr/local/lib/python3.10/dist-packages (from ultralytics) (2.1.4)\n",
            "Requirement already satisfied: seaborn>=0.11.0 in /usr/local/lib/python3.10/dist-packages (from ultralytics) (0.13.1)\n",
            "Collecting ultralytics-thop>=2.0.0 (from ultralytics)\n",
            "  Downloading ultralytics_thop-2.0.5-py3-none-any.whl.metadata (8.9 kB)\n",
            "Requirement already satisfied: contourpy>=1.0.1 in /usr/local/lib/python3.10/dist-packages (from matplotlib>=3.3.0->ultralytics) (1.2.1)\n",
            "Requirement already satisfied: cycler>=0.10 in /usr/local/lib/python3.10/dist-packages (from matplotlib>=3.3.0->ultralytics) (0.12.1)\n",
            "Requirement already satisfied: fonttools>=4.22.0 in /usr/local/lib/python3.10/dist-packages (from matplotlib>=3.3.0->ultralytics) (4.53.1)\n",
            "Requirement already satisfied: kiwisolver>=1.0.1 in /usr/local/lib/python3.10/dist-packages (from matplotlib>=3.3.0->ultralytics) (1.4.5)\n",
            "Requirement already satisfied: packaging>=20.0 in /usr/local/lib/python3.10/dist-packages (from matplotlib>=3.3.0->ultralytics) (24.1)\n",
            "Requirement already satisfied: pyparsing>=2.3.1 in /usr/local/lib/python3.10/dist-packages (from matplotlib>=3.3.0->ultralytics) (3.1.2)\n",
            "Requirement already satisfied: python-dateutil>=2.7 in /usr/local/lib/python3.10/dist-packages (from matplotlib>=3.3.0->ultralytics) (2.9.0.post0)\n",
            "Requirement already satisfied: pytz>=2020.1 in /usr/local/lib/python3.10/dist-packages (from pandas>=1.1.4->ultralytics) (2024.1)\n",
            "Requirement already satisfied: tzdata>=2022.1 in /usr/local/lib/python3.10/dist-packages (from pandas>=1.1.4->ultralytics) (2024.1)\n",
            "Requirement already satisfied: charset-normalizer<4,>=2 in /usr/local/lib/python3.10/dist-packages (from requests>=2.23.0->ultralytics) (3.3.2)\n",
            "Requirement already satisfied: idna<4,>=2.5 in /usr/local/lib/python3.10/dist-packages (from requests>=2.23.0->ultralytics) (3.7)\n",
            "Requirement already satisfied: urllib3<3,>=1.21.1 in /usr/local/lib/python3.10/dist-packages (from requests>=2.23.0->ultralytics) (2.0.7)\n",
            "Requirement already satisfied: certifi>=2017.4.17 in /usr/local/lib/python3.10/dist-packages (from requests>=2.23.0->ultralytics) (2024.7.4)\n",
            "Requirement already satisfied: filelock in /usr/local/lib/python3.10/dist-packages (from torch>=1.8.0->ultralytics) (3.15.4)\n",
            "Requirement already satisfied: typing-extensions>=4.8.0 in /usr/local/lib/python3.10/dist-packages (from torch>=1.8.0->ultralytics) (4.12.2)\n",
            "Requirement already satisfied: sympy in /usr/local/lib/python3.10/dist-packages (from torch>=1.8.0->ultralytics) (1.13.2)\n",
            "Requirement already satisfied: networkx in /usr/local/lib/python3.10/dist-packages (from torch>=1.8.0->ultralytics) (3.3)\n",
            "Requirement already satisfied: jinja2 in /usr/local/lib/python3.10/dist-packages (from torch>=1.8.0->ultralytics) (3.1.4)\n",
            "Requirement already satisfied: fsspec in /usr/local/lib/python3.10/dist-packages (from torch>=1.8.0->ultralytics) (2024.6.1)\n",
            "Requirement already satisfied: six>=1.5 in /usr/local/lib/python3.10/dist-packages (from python-dateutil>=2.7->matplotlib>=3.3.0->ultralytics) (1.16.0)\n",
            "Requirement already satisfied: MarkupSafe>=2.0 in /usr/local/lib/python3.10/dist-packages (from jinja2->torch>=1.8.0->ultralytics) (2.1.5)\n",
            "Requirement already satisfied: mpmath<1.4,>=1.1.0 in /usr/local/lib/python3.10/dist-packages (from sympy->torch>=1.8.0->ultralytics) (1.3.0)\n",
            "Downloading ultralytics-8.2.79-py3-none-any.whl (869 kB)\n",
            "\u001b[2K   \u001b[90m━━━━━━━━━━━━━━━━━━━━━━━━━━━━━━━━━━━━━━━━\u001b[0m \u001b[32m869.1/869.1 kB\u001b[0m \u001b[31m6.7 MB/s\u001b[0m eta \u001b[36m0:00:00\u001b[0m\n",
            "\u001b[?25hDownloading ultralytics_thop-2.0.5-py3-none-any.whl (25 kB)\n",
            "Downloading py_cpuinfo-9.0.0-py3-none-any.whl (22 kB)\n",
            "Installing collected packages: py-cpuinfo, ultralytics-thop, ultralytics\n",
            "Successfully installed py-cpuinfo-9.0.0 ultralytics-8.2.79 ultralytics-thop-2.0.5\n",
            "  Installing build dependencies ... \u001b[?25l\u001b[?25hdone\n",
            "  Getting requirements to build wheel ... \u001b[?25l\u001b[?25hdone\n",
            "  Preparing metadata (pyproject.toml) ... \u001b[?25l\u001b[?25hdone\n",
            "  Building wheel for ultralytics (pyproject.toml) ... \u001b[?25l\u001b[?25hdone\n"
          ]
        }
      ],
      "source": [
        "!pip install -q supervision\n",
        "!pip install --upgrade ultralytics\n",
        "!pip install -q git+https://github.com/THU-MIG/yolov10.git"
      ]
    },
    {
      "cell_type": "code",
      "execution_count": 3,
      "metadata": {
        "colab": {
          "base_uri": "https://localhost:8080/"
        },
        "id": "BpayyqqakTC-",
        "outputId": "aca0b3a6-de82-4a81-f15d-1735ee3e0d38"
      },
      "outputs": [
        {
          "output_type": "stream",
          "name": "stdout",
          "text": [
            "total 43M\n",
            "-rw-r--r-- 1 root root 11M May 23 09:38 yolov10n.pt\n",
            "-rw-r--r-- 1 root root 32M May 23 09:38 yolov10s.pt\n"
          ]
        }
      ],
      "source": [
        "!mkdir -p {HOME}/weights\n",
        "!wget -P {HOME}/weights -q https://github.com/jameslahm/yolov10/releases/download/v1.0/yolov10n.pt\n",
        "!wget -P {HOME}/weights -q https://github.com/jameslahm/yolov10/releases/download/v1.0/yolov10s.pt\n",
        "!ls -lh {HOME}/weights"
      ]
    },
    {
      "cell_type": "code",
      "execution_count": null,
      "metadata": {
        "colab": {
          "base_uri": "https://localhost:8080/"
        },
        "id": "4PGco6oHVwCt",
        "outputId": "80ecb80f-60ce-41e7-8bd1-66f79535d612"
      },
      "outputs": [
        {
          "name": "stdout",
          "output_type": "stream",
          "text": [
            "Requirement already satisfied: roboflow in /usr/local/lib/python3.10/dist-packages (1.1.40)\n",
            "Requirement already satisfied: certifi in /usr/local/lib/python3.10/dist-packages (from roboflow) (2024.7.4)\n",
            "Requirement already satisfied: idna==3.7 in /usr/local/lib/python3.10/dist-packages (from roboflow) (3.7)\n",
            "Requirement already satisfied: cycler in /usr/local/lib/python3.10/dist-packages (from roboflow) (0.12.1)\n",
            "Requirement already satisfied: kiwisolver>=1.3.1 in /usr/local/lib/python3.10/dist-packages (from roboflow) (1.4.5)\n",
            "Requirement already satisfied: matplotlib in /usr/local/lib/python3.10/dist-packages (from roboflow) (3.7.1)\n",
            "Requirement already satisfied: numpy>=1.18.5 in /usr/local/lib/python3.10/dist-packages (from roboflow) (1.26.4)\n",
            "Requirement already satisfied: opencv-python-headless==4.10.0.84 in /usr/local/lib/python3.10/dist-packages (from roboflow) (4.10.0.84)\n",
            "Requirement already satisfied: Pillow>=7.1.2 in /usr/local/lib/python3.10/dist-packages (from roboflow) (10.4.0)\n",
            "Requirement already satisfied: python-dateutil in /usr/local/lib/python3.10/dist-packages (from roboflow) (2.9.0.post0)\n",
            "Requirement already satisfied: python-dotenv in /usr/local/lib/python3.10/dist-packages (from roboflow) (1.0.1)\n",
            "Requirement already satisfied: requests in /usr/local/lib/python3.10/dist-packages (from roboflow) (2.32.3)\n",
            "Requirement already satisfied: six in /usr/local/lib/python3.10/dist-packages (from roboflow) (1.16.0)\n",
            "Requirement already satisfied: urllib3>=1.26.6 in /usr/local/lib/python3.10/dist-packages (from roboflow) (2.0.7)\n",
            "Requirement already satisfied: tqdm>=4.41.0 in /usr/local/lib/python3.10/dist-packages (from roboflow) (4.66.5)\n",
            "Requirement already satisfied: PyYAML>=5.3.1 in /usr/local/lib/python3.10/dist-packages (from roboflow) (6.0.2)\n",
            "Requirement already satisfied: requests-toolbelt in /usr/local/lib/python3.10/dist-packages (from roboflow) (1.0.0)\n",
            "Requirement already satisfied: filetype in /usr/local/lib/python3.10/dist-packages (from roboflow) (1.2.0)\n",
            "Requirement already satisfied: contourpy>=1.0.1 in /usr/local/lib/python3.10/dist-packages (from matplotlib->roboflow) (1.2.1)\n",
            "Requirement already satisfied: fonttools>=4.22.0 in /usr/local/lib/python3.10/dist-packages (from matplotlib->roboflow) (4.53.1)\n",
            "Requirement already satisfied: packaging>=20.0 in /usr/local/lib/python3.10/dist-packages (from matplotlib->roboflow) (24.1)\n",
            "Requirement already satisfied: pyparsing>=2.3.1 in /usr/local/lib/python3.10/dist-packages (from matplotlib->roboflow) (3.1.2)\n",
            "Requirement already satisfied: charset-normalizer<4,>=2 in /usr/local/lib/python3.10/dist-packages (from requests->roboflow) (3.3.2)\n",
            "loading Roboflow workspace...\n",
            "loading Roboflow project...\n"
          ]
        },
        {
          "name": "stderr",
          "output_type": "stream",
          "text": [
            "Downloading Dataset Version Zip in rock-paper-scissors-14 to coco:: 100%|██████████| 232302/232302 [00:03<00:00, 64114.08it/s]"
          ]
        },
        {
          "name": "stdout",
          "output_type": "stream",
          "text": [
            "\n"
          ]
        },
        {
          "name": "stderr",
          "output_type": "stream",
          "text": [
            "\n",
            "Extracting Dataset Version Zip to rock-paper-scissors-14 in coco:: 100%|██████████| 7343/7343 [00:01<00:00, 6628.24it/s]\n"
          ]
        }
      ],
      "source": [
        "# !pip install roboflow\n",
        "\n",
        "# from roboflow import Roboflow\n",
        "# rf = Roboflow(api_key=\"...\")\n",
        "# project = rf.workspace(\"roboflow-58fyf\").project(\"rock-paper-scissors-sxsw\")\n",
        "# version = project.version(14)\n",
        "# dataset = version.download(\"yolov9\")"
      ]
    },
    {
      "cell_type": "code",
      "execution_count": 4,
      "metadata": {
        "id": "F6cydrgUjrqf"
      },
      "outputs": [],
      "source": [
        "from ultralytics import YOLO"
      ]
    },
    {
      "cell_type": "code",
      "execution_count": 5,
      "metadata": {
        "colab": {
          "base_uri": "https://localhost:8080/"
        },
        "id": "jh7Efq3ZWBu3",
        "outputId": "0d6e070b-1ce8-456f-bdca-6077d638eee1"
      },
      "outputs": [
        {
          "output_type": "stream",
          "name": "stdout",
          "text": [
            "New https://pypi.org/project/ultralytics/8.2.79 available 😃 Update with 'pip install -U ultralytics'\n",
            "Ultralytics YOLOv8.1.34 🚀 Python-3.10.12 torch-2.3.0+cpu CPU (Intel Xeon 2.00GHz)\n",
            "\u001b[34m\u001b[1mengine/trainer: \u001b[0mtask=detect, mode=train, model=/content/{HOME}/weights/yolov10s.pt, data=/content/drive/MyDrive/Datasets/rock-paper-scissors-14/data.yaml, epochs=15, time=None, patience=100, batch=32, imgsz=320, save=True, save_period=-1, val_period=1, cache=False, device=None, workers=8, project=None, name=train, exist_ok=False, pretrained=True, optimizer=auto, verbose=True, seed=0, deterministic=True, single_cls=False, rect=False, cos_lr=False, close_mosaic=10, resume=False, amp=True, fraction=1.0, profile=False, freeze=None, multi_scale=False, overlap_mask=True, mask_ratio=4, dropout=0.0, val=True, split=val, save_json=False, save_hybrid=False, conf=None, iou=0.7, max_det=300, half=False, dnn=False, plots=True, source=None, vid_stride=1, stream_buffer=False, visualize=False, augment=False, agnostic_nms=False, classes=None, retina_masks=False, embed=None, show=False, save_frames=False, save_txt=False, save_conf=False, save_crop=False, show_labels=True, show_conf=True, show_boxes=True, line_width=None, format=torchscript, keras=False, optimize=False, int8=False, dynamic=False, simplify=False, opset=None, workspace=4, nms=False, lr0=0.01, lrf=0.01, momentum=0.937, weight_decay=0.0005, warmup_epochs=3.0, warmup_momentum=0.8, warmup_bias_lr=0.1, box=7.5, cls=0.5, dfl=1.5, pose=12.0, kobj=1.0, label_smoothing=0.0, nbs=64, hsv_h=0.015, hsv_s=0.7, hsv_v=0.4, degrees=0.0, translate=0.1, scale=0.5, shear=0.0, perspective=0.0, flipud=0.0, fliplr=0.5, bgr=0.0, mosaic=1.0, mixup=0.0, copy_paste=0.0, auto_augment=randaugment, erasing=0.4, crop_fraction=1.0, cfg=None, tracker=botsort.yaml, save_dir=runs/detect/train\n",
            "Downloading https://ultralytics.com/assets/Arial.ttf to '/root/.config/yolov10/Arial.ttf'...\n"
          ]
        },
        {
          "output_type": "stream",
          "name": "stderr",
          "text": [
            "100%|██████████| 755k/755k [00:00<00:00, 15.1MB/s]\n"
          ]
        },
        {
          "output_type": "stream",
          "name": "stdout",
          "text": [
            "Overriding model.yaml nc=80 with nc=3\n",
            "\n",
            "                   from  n    params  module                                       arguments                     \n",
            "  0                  -1  1       928  ultralytics.nn.modules.conv.Conv             [3, 32, 3, 2]                 \n",
            "  1                  -1  1     18560  ultralytics.nn.modules.conv.Conv             [32, 64, 3, 2]                \n",
            "  2                  -1  1     29056  ultralytics.nn.modules.block.C2f             [64, 64, 1, True]             \n",
            "  3                  -1  1     73984  ultralytics.nn.modules.conv.Conv             [64, 128, 3, 2]               \n",
            "  4                  -1  2    197632  ultralytics.nn.modules.block.C2f             [128, 128, 2, True]           \n",
            "  5                  -1  1     36096  ultralytics.nn.modules.block.SCDown          [128, 256, 3, 2]              \n",
            "  6                  -1  2    788480  ultralytics.nn.modules.block.C2f             [256, 256, 2, True]           \n",
            "  7                  -1  1    137728  ultralytics.nn.modules.block.SCDown          [256, 512, 3, 2]              \n",
            "  8                  -1  1    958464  ultralytics.nn.modules.block.C2fCIB          [512, 512, 1, True, True]     \n",
            "  9                  -1  1    656896  ultralytics.nn.modules.block.SPPF            [512, 512, 5]                 \n",
            " 10                  -1  1    990976  ultralytics.nn.modules.block.PSA             [512, 512]                    \n",
            " 11                  -1  1         0  torch.nn.modules.upsampling.Upsample         [None, 2, 'nearest']          \n",
            " 12             [-1, 6]  1         0  ultralytics.nn.modules.conv.Concat           [1]                           \n",
            " 13                  -1  1    591360  ultralytics.nn.modules.block.C2f             [768, 256, 1]                 \n",
            " 14                  -1  1         0  torch.nn.modules.upsampling.Upsample         [None, 2, 'nearest']          \n",
            " 15             [-1, 4]  1         0  ultralytics.nn.modules.conv.Concat           [1]                           \n",
            " 16                  -1  1    148224  ultralytics.nn.modules.block.C2f             [384, 128, 1]                 \n",
            " 17                  -1  1    147712  ultralytics.nn.modules.conv.Conv             [128, 128, 3, 2]              \n",
            " 18            [-1, 13]  1         0  ultralytics.nn.modules.conv.Concat           [1]                           \n",
            " 19                  -1  1    493056  ultralytics.nn.modules.block.C2f             [384, 256, 1]                 \n",
            " 20                  -1  1     68864  ultralytics.nn.modules.block.SCDown          [256, 256, 3, 2]              \n",
            " 21            [-1, 10]  1         0  ultralytics.nn.modules.conv.Concat           [1]                           \n",
            " 22                  -1  1   1089536  ultralytics.nn.modules.block.C2fCIB          [768, 512, 1, True, True]     \n",
            " 23        [16, 19, 22]  1   1641122  ultralytics.nn.modules.head.v10Detect        [3, [128, 256, 512]]          \n",
            "YOLOv10s summary: 402 layers, 8068674 parameters, 8068658 gradients, 24.8 GFLOPs\n",
            "\n",
            "Transferred 607/619 items from pretrained weights\n",
            "\u001b[34m\u001b[1mTensorBoard: \u001b[0mStart with 'tensorboard --logdir runs/detect/train', view at http://localhost:6006/\n",
            "Freezing layer 'model.23.dfl.conv.weight'\n"
          ]
        },
        {
          "output_type": "stream",
          "name": "stderr",
          "text": [
            "\u001b[34m\u001b[1mtrain: \u001b[0mScanning /content/drive/MyDrive/Datasets/rock-paper-scissors-14/train/labels.cache... 6455 images, 2516 backgrounds, 0 corrupt: 100%|██████████| 6455/6455 [00:00<?, ?it/s]\n",
            "\u001b[34m\u001b[1mval: \u001b[0mScanning /content/drive/MyDrive/Datasets/rock-paper-scissors-14/valid/labels.cache... 576 images, 238 backgrounds, 0 corrupt: 100%|██████████| 576/576 [00:00<?, ?it/s]\n"
          ]
        },
        {
          "output_type": "stream",
          "name": "stdout",
          "text": [
            "Plotting labels to runs/detect/train/labels.jpg... \n",
            "\u001b[34m\u001b[1moptimizer:\u001b[0m 'optimizer=auto' found, ignoring 'lr0=0.01' and 'momentum=0.937' and determining best 'optimizer', 'lr0' and 'momentum' automatically... \n",
            "\u001b[34m\u001b[1moptimizer:\u001b[0m AdamW(lr=0.001429, momentum=0.9) with parameter groups 99 weight(decay=0.0), 112 weight(decay=0.0005), 111 bias(decay=0.0)\n",
            "\u001b[34m\u001b[1mTensorBoard: \u001b[0mmodel graph visualization added ✅\n",
            "Image sizes 320 train, 320 val\n",
            "Using 0 dataloader workers\n",
            "Logging results to \u001b[1mruns/detect/train\u001b[0m\n",
            "Starting training for 15 epochs...\n",
            "\n",
            "      Epoch    GPU_mem     box_om     cls_om     dfl_om     box_oo     cls_oo     dfl_oo  Instances       Size\n"
          ]
        },
        {
          "output_type": "stream",
          "name": "stderr",
          "text": [
            "       1/15         0G      1.377      1.996      1.436      1.384      3.059       1.36         30        320: 100%|██████████| 202/202 [06:44<00:00,  2.00s/it]\n",
            "                 Class     Images  Instances      Box(P          R      mAP50  mAP50-95): 100%|██████████| 9/9 [02:15<00:00, 15.10s/it]"
          ]
        },
        {
          "output_type": "stream",
          "name": "stdout",
          "text": [
            "                   all        576        400      0.404      0.344      0.341      0.176\n"
          ]
        },
        {
          "output_type": "stream",
          "name": "stderr",
          "text": [
            "\n"
          ]
        },
        {
          "output_type": "stream",
          "name": "stdout",
          "text": [
            "\n",
            "      Epoch    GPU_mem     box_om     cls_om     dfl_om     box_oo     cls_oo     dfl_oo  Instances       Size\n"
          ]
        },
        {
          "output_type": "stream",
          "name": "stderr",
          "text": [
            "       2/15         0G      1.488      1.812      1.508      1.593       2.03       1.49         19        320: 100%|██████████| 202/202 [05:01<00:00,  1.49s/it]\n",
            "                 Class     Images  Instances      Box(P          R      mAP50  mAP50-95): 100%|██████████| 9/9 [00:12<00:00,  1.39s/it]"
          ]
        },
        {
          "output_type": "stream",
          "name": "stdout",
          "text": [
            "                   all        576        400      0.451      0.569      0.542      0.314\n"
          ]
        },
        {
          "output_type": "stream",
          "name": "stderr",
          "text": [
            "\n"
          ]
        },
        {
          "output_type": "stream",
          "name": "stdout",
          "text": [
            "\n",
            "      Epoch    GPU_mem     box_om     cls_om     dfl_om     box_oo     cls_oo     dfl_oo  Instances       Size\n"
          ]
        },
        {
          "output_type": "stream",
          "name": "stderr",
          "text": [
            "       3/15         0G      1.424      1.671      1.467      1.544      1.879      1.465         35        320: 100%|██████████| 202/202 [04:52<00:00,  1.45s/it]\n",
            "                 Class     Images  Instances      Box(P          R      mAP50  mAP50-95): 100%|██████████| 9/9 [00:11<00:00,  1.26s/it]"
          ]
        },
        {
          "output_type": "stream",
          "name": "stdout",
          "text": [
            "                   all        576        400      0.419      0.412      0.375      0.214\n"
          ]
        },
        {
          "output_type": "stream",
          "name": "stderr",
          "text": [
            "\n"
          ]
        },
        {
          "output_type": "stream",
          "name": "stdout",
          "text": [
            "\n",
            "      Epoch    GPU_mem     box_om     cls_om     dfl_om     box_oo     cls_oo     dfl_oo  Instances       Size\n"
          ]
        },
        {
          "output_type": "stream",
          "name": "stderr",
          "text": [
            "       4/15         0G        1.4      1.635       1.45       1.52      1.841      1.439         37        320: 100%|██████████| 202/202 [04:53<00:00,  1.45s/it]\n",
            "                 Class     Images  Instances      Box(P          R      mAP50  mAP50-95): 100%|██████████| 9/9 [00:11<00:00,  1.33s/it]"
          ]
        },
        {
          "output_type": "stream",
          "name": "stdout",
          "text": [
            "                   all        576        400      0.702      0.619      0.707      0.428\n"
          ]
        },
        {
          "output_type": "stream",
          "name": "stderr",
          "text": [
            "\n"
          ]
        },
        {
          "output_type": "stream",
          "name": "stdout",
          "text": [
            "\n",
            "      Epoch    GPU_mem     box_om     cls_om     dfl_om     box_oo     cls_oo     dfl_oo  Instances       Size\n"
          ]
        },
        {
          "output_type": "stream",
          "name": "stderr",
          "text": [
            "       5/15         0G      1.305      1.439      1.377      1.424      1.644      1.378         32        320: 100%|██████████| 202/202 [04:56<00:00,  1.47s/it]\n",
            "                 Class     Images  Instances      Box(P          R      mAP50  mAP50-95): 100%|██████████| 9/9 [00:10<00:00,  1.21s/it]"
          ]
        },
        {
          "output_type": "stream",
          "name": "stdout",
          "text": [
            "                   all        576        400      0.843      0.658      0.786      0.516\n"
          ]
        },
        {
          "output_type": "stream",
          "name": "stderr",
          "text": [
            "\n"
          ]
        },
        {
          "output_type": "stream",
          "name": "stdout",
          "text": [
            "Closing dataloader mosaic\n",
            "\n",
            "      Epoch    GPU_mem     box_om     cls_om     dfl_om     box_oo     cls_oo     dfl_oo  Instances       Size\n"
          ]
        },
        {
          "output_type": "stream",
          "name": "stderr",
          "text": [
            "       6/15         0G      1.175      1.071      1.351      1.278      1.102      1.387         18        320: 100%|██████████| 202/202 [04:45<00:00,  1.41s/it]\n",
            "                 Class     Images  Instances      Box(P          R      mAP50  mAP50-95): 100%|██████████| 9/9 [00:11<00:00,  1.22s/it]"
          ]
        },
        {
          "output_type": "stream",
          "name": "stdout",
          "text": [
            "                   all        576        400       0.73      0.667      0.738      0.472\n"
          ]
        },
        {
          "output_type": "stream",
          "name": "stderr",
          "text": [
            "\n"
          ]
        },
        {
          "output_type": "stream",
          "name": "stdout",
          "text": [
            "\n",
            "      Epoch    GPU_mem     box_om     cls_om     dfl_om     box_oo     cls_oo     dfl_oo  Instances       Size\n"
          ]
        },
        {
          "output_type": "stream",
          "name": "stderr",
          "text": [
            "       7/15         0G      1.106     0.9429      1.292      1.194     0.9687      1.318         15        320: 100%|██████████| 202/202 [04:47<00:00,  1.42s/it]\n",
            "                 Class     Images  Instances      Box(P          R      mAP50  mAP50-95): 100%|██████████| 9/9 [00:10<00:00,  1.15s/it]"
          ]
        },
        {
          "output_type": "stream",
          "name": "stdout",
          "text": [
            "                   all        576        400      0.804      0.723      0.808      0.547\n"
          ]
        },
        {
          "output_type": "stream",
          "name": "stderr",
          "text": [
            "\n"
          ]
        },
        {
          "output_type": "stream",
          "name": "stdout",
          "text": [
            "\n",
            "      Epoch    GPU_mem     box_om     cls_om     dfl_om     box_oo     cls_oo     dfl_oo  Instances       Size\n"
          ]
        },
        {
          "output_type": "stream",
          "name": "stderr",
          "text": [
            "       8/15         0G       1.05     0.8296      1.262      1.136     0.8355      1.286         19        320: 100%|██████████| 202/202 [04:52<00:00,  1.45s/it]\n",
            "                 Class     Images  Instances      Box(P          R      mAP50  mAP50-95): 100%|██████████| 9/9 [00:12<00:00,  1.43s/it]"
          ]
        },
        {
          "output_type": "stream",
          "name": "stdout",
          "text": [
            "                   all        576        400        0.8       0.78      0.856      0.595\n"
          ]
        },
        {
          "output_type": "stream",
          "name": "stderr",
          "text": [
            "\n"
          ]
        },
        {
          "output_type": "stream",
          "name": "stdout",
          "text": [
            "\n",
            "      Epoch    GPU_mem     box_om     cls_om     dfl_om     box_oo     cls_oo     dfl_oo  Instances       Size\n"
          ]
        },
        {
          "output_type": "stream",
          "name": "stderr",
          "text": [
            "       9/15         0G     0.9816     0.7503      1.211      1.062     0.7428      1.234         20        320: 100%|██████████| 202/202 [04:47<00:00,  1.42s/it]\n",
            "                 Class     Images  Instances      Box(P          R      mAP50  mAP50-95): 100%|██████████| 9/9 [00:11<00:00,  1.24s/it]"
          ]
        },
        {
          "output_type": "stream",
          "name": "stdout",
          "text": [
            "                   all        576        400      0.794      0.806       0.87      0.633\n"
          ]
        },
        {
          "output_type": "stream",
          "name": "stderr",
          "text": [
            "\n"
          ]
        },
        {
          "output_type": "stream",
          "name": "stdout",
          "text": [
            "\n",
            "      Epoch    GPU_mem     box_om     cls_om     dfl_om     box_oo     cls_oo     dfl_oo  Instances       Size\n"
          ]
        },
        {
          "output_type": "stream",
          "name": "stderr",
          "text": [
            "      10/15         0G     0.9384     0.6824      1.176      1.011     0.6639      1.199         19        320: 100%|██████████| 202/202 [04:50<00:00,  1.44s/it]\n",
            "                 Class     Images  Instances      Box(P          R      mAP50  mAP50-95): 100%|██████████| 9/9 [00:12<00:00,  1.37s/it]"
          ]
        },
        {
          "output_type": "stream",
          "name": "stdout",
          "text": [
            "                   all        576        400       0.85      0.868        0.9      0.662\n"
          ]
        },
        {
          "output_type": "stream",
          "name": "stderr",
          "text": [
            "\n"
          ]
        },
        {
          "output_type": "stream",
          "name": "stdout",
          "text": [
            "\n",
            "      Epoch    GPU_mem     box_om     cls_om     dfl_om     box_oo     cls_oo     dfl_oo  Instances       Size\n"
          ]
        },
        {
          "output_type": "stream",
          "name": "stderr",
          "text": [
            "      11/15         0G     0.8953     0.6241      1.152     0.9645     0.5946      1.181         15        320: 100%|██████████| 202/202 [04:45<00:00,  1.42s/it]\n",
            "                 Class     Images  Instances      Box(P          R      mAP50  mAP50-95): 100%|██████████| 9/9 [00:11<00:00,  1.26s/it]"
          ]
        },
        {
          "output_type": "stream",
          "name": "stdout",
          "text": [
            "                   all        576        400      0.923      0.859      0.924      0.704\n"
          ]
        },
        {
          "output_type": "stream",
          "name": "stderr",
          "text": [
            "\n"
          ]
        },
        {
          "output_type": "stream",
          "name": "stdout",
          "text": [
            "\n",
            "      Epoch    GPU_mem     box_om     cls_om     dfl_om     box_oo     cls_oo     dfl_oo  Instances       Size\n"
          ]
        },
        {
          "output_type": "stream",
          "name": "stderr",
          "text": [
            "      12/15         0G     0.8466     0.5714      1.116     0.9079     0.5244      1.139         13        320: 100%|██████████| 202/202 [04:47<00:00,  1.43s/it]\n",
            "                 Class     Images  Instances      Box(P          R      mAP50  mAP50-95): 100%|██████████| 9/9 [00:11<00:00,  1.28s/it]"
          ]
        },
        {
          "output_type": "stream",
          "name": "stdout",
          "text": [
            "                   all        576        400      0.909      0.879      0.929        0.7\n"
          ]
        },
        {
          "output_type": "stream",
          "name": "stderr",
          "text": [
            "\n"
          ]
        },
        {
          "output_type": "stream",
          "name": "stdout",
          "text": [
            "\n",
            "      Epoch    GPU_mem     box_om     cls_om     dfl_om     box_oo     cls_oo     dfl_oo  Instances       Size\n"
          ]
        },
        {
          "output_type": "stream",
          "name": "stderr",
          "text": [
            "      13/15         0G     0.8116      0.526      1.089     0.8693      0.468      1.108         17        320: 100%|██████████| 202/202 [04:53<00:00,  1.45s/it]\n",
            "                 Class     Images  Instances      Box(P          R      mAP50  mAP50-95): 100%|██████████| 9/9 [00:11<00:00,  1.25s/it]"
          ]
        },
        {
          "output_type": "stream",
          "name": "stdout",
          "text": [
            "                   all        576        400      0.891      0.894      0.927      0.703\n"
          ]
        },
        {
          "output_type": "stream",
          "name": "stderr",
          "text": [
            "\n"
          ]
        },
        {
          "output_type": "stream",
          "name": "stdout",
          "text": [
            "\n",
            "      Epoch    GPU_mem     box_om     cls_om     dfl_om     box_oo     cls_oo     dfl_oo  Instances       Size\n"
          ]
        },
        {
          "output_type": "stream",
          "name": "stderr",
          "text": [
            "      14/15         0G     0.7719     0.4884       1.07     0.8304     0.4251      1.087         17        320: 100%|██████████| 202/202 [04:50<00:00,  1.44s/it]\n",
            "                 Class     Images  Instances      Box(P          R      mAP50  mAP50-95): 100%|██████████| 9/9 [00:11<00:00,  1.23s/it]"
          ]
        },
        {
          "output_type": "stream",
          "name": "stdout",
          "text": [
            "                   all        576        400      0.932      0.888      0.943      0.732\n"
          ]
        },
        {
          "output_type": "stream",
          "name": "stderr",
          "text": [
            "\n"
          ]
        },
        {
          "output_type": "stream",
          "name": "stdout",
          "text": [
            "\n",
            "      Epoch    GPU_mem     box_om     cls_om     dfl_om     box_oo     cls_oo     dfl_oo  Instances       Size\n"
          ]
        },
        {
          "output_type": "stream",
          "name": "stderr",
          "text": [
            "      15/15         0G     0.7359     0.4469      1.054     0.7899     0.3861      1.065         11        320: 100%|██████████| 202/202 [04:50<00:00,  1.44s/it]\n",
            "                 Class     Images  Instances      Box(P          R      mAP50  mAP50-95): 100%|██████████| 9/9 [00:11<00:00,  1.28s/it]"
          ]
        },
        {
          "output_type": "stream",
          "name": "stdout",
          "text": [
            "                   all        576        400      0.939      0.892      0.943       0.73\n"
          ]
        },
        {
          "output_type": "stream",
          "name": "stderr",
          "text": [
            "\n"
          ]
        },
        {
          "output_type": "stream",
          "name": "stdout",
          "text": [
            "\n",
            "15 epochs completed in 1.334 hours.\n",
            "Optimizer stripped from runs/detect/train/weights/last.pt, 16.5MB\n",
            "Optimizer stripped from runs/detect/train/weights/best.pt, 16.5MB\n",
            "\n",
            "Validating runs/detect/train/weights/best.pt...\n",
            "Ultralytics YOLOv8.1.34 🚀 Python-3.10.12 torch-2.3.0+cpu CPU (Intel Xeon 2.00GHz)\n",
            "YOLOv10s summary (fused): 293 layers, 8037282 parameters, 0 gradients, 24.5 GFLOPs\n"
          ]
        },
        {
          "output_type": "stream",
          "name": "stderr",
          "text": [
            "                 Class     Images  Instances      Box(P          R      mAP50  mAP50-95): 100%|██████████| 9/9 [00:11<00:00,  1.26s/it]\n"
          ]
        },
        {
          "output_type": "stream",
          "name": "stdout",
          "text": [
            "                   all        576        400      0.933      0.887      0.943      0.732\n",
            "                 Paper        576        139      0.926      0.897       0.94      0.726\n",
            "                  Rock        576        141      0.919      0.894      0.953      0.733\n",
            "              Scissors        576        120      0.954      0.869      0.936      0.737\n",
            "Speed: 0.1ms preprocess, 11.2ms inference, 0.0ms loss, 0.1ms postprocess per image\n",
            "Results saved to \u001b[1mruns/detect/train\u001b[0m\n"
          ]
        }
      ],
      "source": [
        "model = YOLO(\"/content/{HOME}/weights/yolov10s.pt\")\n",
        "results = model.train(data=\"/content/drive/MyDrive/Datasets/rock-paper-scissors-14/data.yaml\", epochs=15, imgsz=320, batch=32)"
      ]
    },
    {
      "cell_type": "markdown",
      "source": [
        "# Validation"
      ],
      "metadata": {
        "id": "5gj3IjkWgWoi"
      }
    },
    {
      "cell_type": "code",
      "source": [
        "!pip install --upgrade torch ultralytics"
      ],
      "metadata": {
        "colab": {
          "base_uri": "https://localhost:8080/"
        },
        "id": "Urnf7G4f1a1I",
        "outputId": "c98595e8-158c-49f2-a146-2ff43c6807c1"
      },
      "execution_count": 9,
      "outputs": [
        {
          "output_type": "stream",
          "name": "stdout",
          "text": [
            "Requirement already satisfied: torch in /usr/local/lib/python3.10/dist-packages (2.3.0+cpu)\n",
            "Collecting torch\n",
            "  Using cached torch-2.4.0-cp310-cp310-manylinux1_x86_64.whl.metadata (26 kB)\n",
            "Requirement already satisfied: ultralytics in /usr/local/lib/python3.10/dist-packages (8.2.79)\n",
            "Requirement already satisfied: filelock in /usr/local/lib/python3.10/dist-packages (from torch) (3.15.4)\n",
            "Requirement already satisfied: typing-extensions>=4.8.0 in /usr/local/lib/python3.10/dist-packages (from torch) (4.12.2)\n",
            "Requirement already satisfied: sympy in /usr/local/lib/python3.10/dist-packages (from torch) (1.13.2)\n",
            "Requirement already satisfied: networkx in /usr/local/lib/python3.10/dist-packages (from torch) (3.3)\n",
            "Requirement already satisfied: jinja2 in /usr/local/lib/python3.10/dist-packages (from torch) (3.1.4)\n",
            "Requirement already satisfied: fsspec in /usr/local/lib/python3.10/dist-packages (from torch) (2024.6.1)\n",
            "Collecting nvidia-cuda-nvrtc-cu12==12.1.105 (from torch)\n",
            "  Using cached nvidia_cuda_nvrtc_cu12-12.1.105-py3-none-manylinux1_x86_64.whl.metadata (1.5 kB)\n",
            "Collecting nvidia-cuda-runtime-cu12==12.1.105 (from torch)\n",
            "  Using cached nvidia_cuda_runtime_cu12-12.1.105-py3-none-manylinux1_x86_64.whl.metadata (1.5 kB)\n",
            "Collecting nvidia-cuda-cupti-cu12==12.1.105 (from torch)\n",
            "  Using cached nvidia_cuda_cupti_cu12-12.1.105-py3-none-manylinux1_x86_64.whl.metadata (1.6 kB)\n",
            "Collecting nvidia-cudnn-cu12==9.1.0.70 (from torch)\n",
            "  Using cached nvidia_cudnn_cu12-9.1.0.70-py3-none-manylinux2014_x86_64.whl.metadata (1.6 kB)\n",
            "Collecting nvidia-cublas-cu12==12.1.3.1 (from torch)\n",
            "  Using cached nvidia_cublas_cu12-12.1.3.1-py3-none-manylinux1_x86_64.whl.metadata (1.5 kB)\n",
            "Collecting nvidia-cufft-cu12==11.0.2.54 (from torch)\n",
            "  Using cached nvidia_cufft_cu12-11.0.2.54-py3-none-manylinux1_x86_64.whl.metadata (1.5 kB)\n",
            "Collecting nvidia-curand-cu12==10.3.2.106 (from torch)\n",
            "  Using cached nvidia_curand_cu12-10.3.2.106-py3-none-manylinux1_x86_64.whl.metadata (1.5 kB)\n",
            "Collecting nvidia-cusolver-cu12==11.4.5.107 (from torch)\n",
            "  Using cached nvidia_cusolver_cu12-11.4.5.107-py3-none-manylinux1_x86_64.whl.metadata (1.6 kB)\n",
            "Collecting nvidia-cusparse-cu12==12.1.0.106 (from torch)\n",
            "  Using cached nvidia_cusparse_cu12-12.1.0.106-py3-none-manylinux1_x86_64.whl.metadata (1.6 kB)\n",
            "Collecting nvidia-nccl-cu12==2.20.5 (from torch)\n",
            "  Using cached nvidia_nccl_cu12-2.20.5-py3-none-manylinux2014_x86_64.whl.metadata (1.8 kB)\n",
            "Collecting nvidia-nvtx-cu12==12.1.105 (from torch)\n",
            "  Using cached nvidia_nvtx_cu12-12.1.105-py3-none-manylinux1_x86_64.whl.metadata (1.7 kB)\n",
            "Collecting triton==3.0.0 (from torch)\n",
            "  Using cached triton-3.0.0-1-cp310-cp310-manylinux2014_x86_64.manylinux_2_17_x86_64.whl.metadata (1.3 kB)\n",
            "Collecting nvidia-nvjitlink-cu12 (from nvidia-cusolver-cu12==11.4.5.107->torch)\n",
            "  Using cached nvidia_nvjitlink_cu12-12.6.20-py3-none-manylinux2014_x86_64.whl.metadata (1.5 kB)\n",
            "Requirement already satisfied: numpy<2.0.0,>=1.23.0 in /usr/local/lib/python3.10/dist-packages (from ultralytics) (1.26.4)\n",
            "Requirement already satisfied: matplotlib>=3.3.0 in /usr/local/lib/python3.10/dist-packages (from ultralytics) (3.7.1)\n",
            "Requirement already satisfied: opencv-python>=4.6.0 in /usr/local/lib/python3.10/dist-packages (from ultralytics) (4.10.0.84)\n",
            "Requirement already satisfied: pillow>=7.1.2 in /usr/local/lib/python3.10/dist-packages (from ultralytics) (10.4.0)\n",
            "Requirement already satisfied: pyyaml>=5.3.1 in /usr/local/lib/python3.10/dist-packages (from ultralytics) (6.0.2)\n",
            "Requirement already satisfied: requests>=2.23.0 in /usr/local/lib/python3.10/dist-packages (from ultralytics) (2.32.3)\n",
            "Requirement already satisfied: scipy>=1.4.1 in /usr/local/lib/python3.10/dist-packages (from ultralytics) (1.13.1)\n",
            "Requirement already satisfied: torchvision>=0.9.0 in /usr/local/lib/python3.10/dist-packages (from ultralytics) (0.18.0+cpu)\n",
            "Requirement already satisfied: tqdm>=4.64.0 in /usr/local/lib/python3.10/dist-packages (from ultralytics) (4.66.5)\n",
            "Requirement already satisfied: psutil in /usr/local/lib/python3.10/dist-packages (from ultralytics) (5.9.5)\n",
            "Requirement already satisfied: py-cpuinfo in /usr/local/lib/python3.10/dist-packages (from ultralytics) (9.0.0)\n",
            "Requirement already satisfied: pandas>=1.1.4 in /usr/local/lib/python3.10/dist-packages (from ultralytics) (2.1.4)\n",
            "Requirement already satisfied: seaborn>=0.11.0 in /usr/local/lib/python3.10/dist-packages (from ultralytics) (0.13.1)\n",
            "Requirement already satisfied: ultralytics-thop>=2.0.0 in /usr/local/lib/python3.10/dist-packages (from ultralytics) (2.0.5)\n",
            "Requirement already satisfied: contourpy>=1.0.1 in /usr/local/lib/python3.10/dist-packages (from matplotlib>=3.3.0->ultralytics) (1.2.1)\n",
            "Requirement already satisfied: cycler>=0.10 in /usr/local/lib/python3.10/dist-packages (from matplotlib>=3.3.0->ultralytics) (0.12.1)\n",
            "Requirement already satisfied: fonttools>=4.22.0 in /usr/local/lib/python3.10/dist-packages (from matplotlib>=3.3.0->ultralytics) (4.53.1)\n",
            "Requirement already satisfied: kiwisolver>=1.0.1 in /usr/local/lib/python3.10/dist-packages (from matplotlib>=3.3.0->ultralytics) (1.4.5)\n",
            "Requirement already satisfied: packaging>=20.0 in /usr/local/lib/python3.10/dist-packages (from matplotlib>=3.3.0->ultralytics) (24.1)\n",
            "Requirement already satisfied: pyparsing>=2.3.1 in /usr/local/lib/python3.10/dist-packages (from matplotlib>=3.3.0->ultralytics) (3.1.2)\n",
            "Requirement already satisfied: python-dateutil>=2.7 in /usr/local/lib/python3.10/dist-packages (from matplotlib>=3.3.0->ultralytics) (2.9.0.post0)\n",
            "Requirement already satisfied: pytz>=2020.1 in /usr/local/lib/python3.10/dist-packages (from pandas>=1.1.4->ultralytics) (2024.1)\n",
            "Requirement already satisfied: tzdata>=2022.1 in /usr/local/lib/python3.10/dist-packages (from pandas>=1.1.4->ultralytics) (2024.1)\n",
            "Requirement already satisfied: charset-normalizer<4,>=2 in /usr/local/lib/python3.10/dist-packages (from requests>=2.23.0->ultralytics) (3.3.2)\n",
            "Requirement already satisfied: idna<4,>=2.5 in /usr/local/lib/python3.10/dist-packages (from requests>=2.23.0->ultralytics) (3.7)\n",
            "Requirement already satisfied: urllib3<3,>=1.21.1 in /usr/local/lib/python3.10/dist-packages (from requests>=2.23.0->ultralytics) (2.0.7)\n",
            "Requirement already satisfied: certifi>=2017.4.17 in /usr/local/lib/python3.10/dist-packages (from requests>=2.23.0->ultralytics) (2024.7.4)\n",
            "Requirement already satisfied: MarkupSafe>=2.0 in /usr/local/lib/python3.10/dist-packages (from jinja2->torch) (2.1.5)\n",
            "Requirement already satisfied: mpmath<1.4,>=1.1.0 in /usr/local/lib/python3.10/dist-packages (from sympy->torch) (1.3.0)\n",
            "Requirement already satisfied: six>=1.5 in /usr/local/lib/python3.10/dist-packages (from python-dateutil>=2.7->matplotlib>=3.3.0->ultralytics) (1.16.0)\n"
          ]
        }
      ]
    },
    {
      "cell_type": "code",
      "source": [
        "from ultralytics import YOLOv10\n",
        "model = YOLOv10('/content/runs/detect/train/weights/best.pt')\n",
        "\n",
        "metrics = model.val()"
      ],
      "metadata": {
        "colab": {
          "base_uri": "https://localhost:8080/"
        },
        "id": "eCf5XM_hgVz4",
        "outputId": "d20e9f60-169d-462a-fa7f-8d8bc39c8cf2"
      },
      "execution_count": 11,
      "outputs": [
        {
          "output_type": "stream",
          "name": "stdout",
          "text": [
            "Ultralytics YOLOv8.1.34 🚀 Python-3.10.12 torch-2.3.0+cpu CPU (Intel Xeon 2.00GHz)\n",
            "YOLOv10s summary (fused): 293 layers, 8037282 parameters, 0 gradients, 24.5 GFLOPs\n"
          ]
        },
        {
          "output_type": "stream",
          "name": "stderr",
          "text": [
            "\u001b[34m\u001b[1mval: \u001b[0mScanning /content/drive/MyDrive/Datasets/rock-paper-scissors-14/valid/labels.cache... 576 images, 238 backgrounds, 0 corrupt: 100%|██████████| 576/576 [00:00<?, ?it/s]\n",
            "                 Class     Images  Instances      Box(P          R      mAP50  mAP50-95): 100%|██████████| 36/36 [00:12<00:00,  2.80it/s]\n"
          ]
        },
        {
          "output_type": "stream",
          "name": "stdout",
          "text": [
            "                   all        576        400      0.933      0.887      0.943      0.732\n",
            "                 Paper        576        139      0.926      0.897       0.94      0.726\n",
            "                  Rock        576        141      0.919      0.894      0.953      0.733\n",
            "              Scissors        576        120      0.954      0.869      0.936      0.737\n",
            "Speed: 0.1ms preprocess, 11.1ms inference, 0.0ms loss, 0.1ms postprocess per image\n",
            "Results saved to \u001b[1mruns/detect/val4\u001b[0m\n",
            "0.7316478748300159\n"
          ]
        }
      ]
    },
    {
      "cell_type": "code",
      "source": [
        "print('--------------------------------------')\n",
        "print('mAP50-95:', metrics.box.map)  # mAP50-95\n",
        "print('mAP50:', metrics.box.map50)  # mAP50\n",
        "print('mAP75:', metrics.box.map75)  # mAP75\n",
        "print('list of mAP50-95 for each category:', metrics.box.maps)  # list of mAP50-95 for each category"
      ],
      "metadata": {
        "colab": {
          "base_uri": "https://localhost:8080/"
        },
        "id": "qmkaEkJb2FG5",
        "outputId": "23b70884-1478-462e-a685-0f2f3d5f74fe"
      },
      "execution_count": 13,
      "outputs": [
        {
          "output_type": "stream",
          "name": "stdout",
          "text": [
            "--------------------------------------\n",
            "mAP50-95: 0.7316478748300159\n",
            "mAP50: 0.9427046751557094\n",
            "mAP75: 0.8768510106504896\n",
            "list of mAP50-95 for each category: [    0.72556     0.73279     0.73659]\n"
          ]
        }
      ]
    },
    {
      "cell_type": "markdown",
      "metadata": {
        "id": "-a5rGAtTlA2w"
      },
      "source": [
        "# Prediction"
      ]
    },
    {
      "cell_type": "code",
      "execution_count": null,
      "metadata": {
        "colab": {
          "base_uri": "https://localhost:8080/",
          "height": 657
        },
        "id": "nvMYu1hvk6kB",
        "outputId": "9d40d261-3ad8-401e-966f-061c33eb4a65"
      },
      "outputs": [
        {
          "output_type": "execute_result",
          "data": {
            "image/jpeg": "[encoded data removed]",
            "text/plain": [
              "<IPython.core.display.Image object>"
            ]
          },
          "metadata": {
            "image/jpeg": {
              "height": 640
            }
          },
          "execution_count": 6
        }
      ],
      "source": [
        "from IPython.display import Image\n",
        "\n",
        "Image(filename='/content/test.jpg', height=640)"
      ]
    },
    {
      "cell_type": "code",
      "execution_count": null,
      "metadata": {
        "id": "Jl2q2Xzdh22q",
        "colab": {
          "base_uri": "https://localhost:8080/"
        },
        "outputId": "5780350e-9815-4ff7-d35d-04a7334ce2d7"
      },
      "outputs": [
        {
          "output_type": "stream",
          "name": "stdout",
          "text": [
            "Ultralytics YOLOv8.1.34 🚀 Python-3.10.12 torch-2.3.1+cu121 CPU (Intel Xeon 2.20GHz)\n",
            "YOLOv10n summary (fused): 285 layers, 2695586 parameters, 0 gradients, 8.2 GFLOPs\n",
            "\n",
            "video 1/1 (frame 1/449) /content/test.mp4: 192x320 2 Papers, 60.0ms\n",
            "video 1/1 (frame 2/449) /content/test.mp4: 192x320 2 Papers, 50.3ms\n",
            "video 1/1 (frame 3/449) /content/test.mp4: 192x320 1 Paper, 55.1ms\n",
            "video 1/1 (frame 4/449) /content/test.mp4: 192x320 1 Paper, 51.0ms\n",
            "video 1/1 (frame 5/449) /content/test.mp4: 192x320 (no detections), 48.9ms\n",
            "video 1/1 (frame 6/449) /content/test.mp4: 192x320 (no detections), 55.9ms\n",
            "video 1/1 (frame 7/449) /content/test.mp4: 192x320 (no detections), 49.8ms\n",
            "video 1/1 (frame 8/449) /content/test.mp4: 192x320 (no detections), 49.7ms\n",
            "video 1/1 (frame 9/449) /content/test.mp4: 192x320 (no detections), 52.4ms\n",
            "video 1/1 (frame 10/449) /content/test.mp4: 192x320 (no detections), 51.8ms\n",
            "video 1/1 (frame 11/449) /content/test.mp4: 192x320 (no detections), 55.1ms\n",
            "video 1/1 (frame 12/449) /content/test.mp4: 192x320 (no detections), 57.4ms\n",
            "video 1/1 (frame 13/449) /content/test.mp4: 192x320 (no detections), 52.0ms\n",
            "video 1/1 (frame 14/449) /content/test.mp4: 192x320 (no detections), 50.6ms\n",
            "video 1/1 (frame 15/449) /content/test.mp4: 192x320 (no detections), 48.9ms\n",
            "video 1/1 (frame 16/449) /content/test.mp4: 192x320 (no detections), 51.0ms\n",
            "video 1/1 (frame 17/449) /content/test.mp4: 192x320 (no detections), 50.9ms\n",
            "video 1/1 (frame 18/449) /content/test.mp4: 192x320 (no detections), 65.7ms\n",
            "video 1/1 (frame 19/449) /content/test.mp4: 192x320 (no detections), 52.9ms\n",
            "video 1/1 (frame 20/449) /content/test.mp4: 192x320 (no detections), 49.7ms\n",
            "video 1/1 (frame 21/449) /content/test.mp4: 192x320 (no detections), 50.3ms\n",
            "video 1/1 (frame 22/449) /content/test.mp4: 192x320 (no detections), 50.4ms\n",
            "video 1/1 (frame 23/449) /content/test.mp4: 192x320 (no detections), 53.2ms\n",
            "video 1/1 (frame 24/449) /content/test.mp4: 192x320 (no detections), 52.4ms\n",
            "video 1/1 (frame 25/449) /content/test.mp4: 192x320 (no detections), 51.0ms\n",
            "video 1/1 (frame 26/449) /content/test.mp4: 192x320 (no detections), 52.9ms\n",
            "video 1/1 (frame 27/449) /content/test.mp4: 192x320 (no detections), 51.3ms\n",
            "video 1/1 (frame 28/449) /content/test.mp4: 192x320 (no detections), 54.1ms\n",
            "video 1/1 (frame 29/449) /content/test.mp4: 192x320 (no detections), 61.0ms\n",
            "video 1/1 (frame 30/449) /content/test.mp4: 192x320 (no detections), 52.2ms\n",
            "video 1/1 (frame 31/449) /content/test.mp4: 192x320 (no detections), 51.9ms\n",
            "video 1/1 (frame 32/449) /content/test.mp4: 192x320 (no detections), 51.9ms\n",
            "video 1/1 (frame 33/449) /content/test.mp4: 192x320 (no detections), 50.1ms\n",
            "video 1/1 (frame 34/449) /content/test.mp4: 192x320 (no detections), 68.1ms\n",
            "video 1/1 (frame 35/449) /content/test.mp4: 192x320 (no detections), 51.2ms\n",
            "video 1/1 (frame 36/449) /content/test.mp4: 192x320 (no detections), 50.2ms\n",
            "video 1/1 (frame 37/449) /content/test.mp4: 192x320 (no detections), 50.3ms\n",
            "video 1/1 (frame 38/449) /content/test.mp4: 192x320 (no detections), 51.6ms\n",
            "video 1/1 (frame 39/449) /content/test.mp4: 192x320 (no detections), 48.7ms\n",
            "video 1/1 (frame 40/449) /content/test.mp4: 192x320 (no detections), 55.8ms\n",
            "video 1/1 (frame 41/449) /content/test.mp4: 192x320 (no detections), 51.8ms\n",
            "video 1/1 (frame 42/449) /content/test.mp4: 192x320 (no detections), 54.9ms\n",
            "video 1/1 (frame 43/449) /content/test.mp4: 192x320 (no detections), 52.8ms\n",
            "video 1/1 (frame 44/449) /content/test.mp4: 192x320 (no detections), 52.3ms\n",
            "video 1/1 (frame 45/449) /content/test.mp4: 192x320 (no detections), 53.6ms\n",
            "video 1/1 (frame 46/449) /content/test.mp4: 192x320 (no detections), 51.2ms\n",
            "video 1/1 (frame 47/449) /content/test.mp4: 192x320 (no detections), 53.5ms\n",
            "video 1/1 (frame 48/449) /content/test.mp4: 192x320 (no detections), 55.3ms\n",
            "video 1/1 (frame 49/449) /content/test.mp4: 192x320 (no detections), 62.7ms\n",
            "video 1/1 (frame 50/449) /content/test.mp4: 192x320 1 Paper, 52.6ms\n",
            "video 1/1 (frame 51/449) /content/test.mp4: 192x320 1 Paper, 56.8ms\n",
            "video 1/1 (frame 52/449) /content/test.mp4: 192x320 (no detections), 53.0ms\n",
            "video 1/1 (frame 53/449) /content/test.mp4: 192x320 (no detections), 48.5ms\n",
            "video 1/1 (frame 54/449) /content/test.mp4: 192x320 (no detections), 80.2ms\n",
            "video 1/1 (frame 55/449) /content/test.mp4: 192x320 1 Paper, 84.6ms\n",
            "video 1/1 (frame 56/449) /content/test.mp4: 192x320 1 Paper, 79.1ms\n",
            "video 1/1 (frame 57/449) /content/test.mp4: 192x320 1 Paper, 76.6ms\n",
            "video 1/1 (frame 58/449) /content/test.mp4: 192x320 1 Paper, 76.7ms\n",
            "video 1/1 (frame 59/449) /content/test.mp4: 192x320 1 Paper, 81.2ms\n",
            "video 1/1 (frame 60/449) /content/test.mp4: 192x320 1 Paper, 76.4ms\n",
            "video 1/1 (frame 61/449) /content/test.mp4: 192x320 1 Paper, 81.0ms\n",
            "video 1/1 (frame 62/449) /content/test.mp4: 192x320 1 Paper, 77.8ms\n",
            "video 1/1 (frame 63/449) /content/test.mp4: 192x320 1 Paper, 91.9ms\n",
            "video 1/1 (frame 64/449) /content/test.mp4: 192x320 1 Paper, 75.5ms\n",
            "video 1/1 (frame 65/449) /content/test.mp4: 192x320 1 Paper, 75.6ms\n",
            "video 1/1 (frame 66/449) /content/test.mp4: 192x320 1 Paper, 80.2ms\n",
            "video 1/1 (frame 67/449) /content/test.mp4: 192x320 1 Paper, 91.2ms\n",
            "video 1/1 (frame 68/449) /content/test.mp4: 192x320 1 Paper, 83.7ms\n",
            "video 1/1 (frame 69/449) /content/test.mp4: 192x320 1 Paper, 77.3ms\n",
            "video 1/1 (frame 70/449) /content/test.mp4: 192x320 (no detections), 77.0ms\n",
            "video 1/1 (frame 71/449) /content/test.mp4: 192x320 (no detections), 86.9ms\n",
            "video 1/1 (frame 72/449) /content/test.mp4: 192x320 (no detections), 79.5ms\n",
            "video 1/1 (frame 73/449) /content/test.mp4: 192x320 (no detections), 76.1ms\n",
            "video 1/1 (frame 74/449) /content/test.mp4: 192x320 (no detections), 88.6ms\n",
            "video 1/1 (frame 75/449) /content/test.mp4: 192x320 (no detections), 75.2ms\n",
            "video 1/1 (frame 76/449) /content/test.mp4: 192x320 (no detections), 82.2ms\n",
            "video 1/1 (frame 77/449) /content/test.mp4: 192x320 (no detections), 78.2ms\n",
            "video 1/1 (frame 78/449) /content/test.mp4: 192x320 (no detections), 80.7ms\n",
            "video 1/1 (frame 79/449) /content/test.mp4: 192x320 (no detections), 78.9ms\n",
            "video 1/1 (frame 80/449) /content/test.mp4: 192x320 (no detections), 81.3ms\n",
            "video 1/1 (frame 81/449) /content/test.mp4: 192x320 (no detections), 81.3ms\n",
            "video 1/1 (frame 82/449) /content/test.mp4: 192x320 (no detections), 76.4ms\n",
            "video 1/1 (frame 83/449) /content/test.mp4: 192x320 (no detections), 74.5ms\n",
            "video 1/1 (frame 84/449) /content/test.mp4: 192x320 (no detections), 75.0ms\n",
            "video 1/1 (frame 85/449) /content/test.mp4: 192x320 (no detections), 87.0ms\n",
            "video 1/1 (frame 86/449) /content/test.mp4: 192x320 (no detections), 93.7ms\n",
            "video 1/1 (frame 87/449) /content/test.mp4: 192x320 (no detections), 89.0ms\n",
            "video 1/1 (frame 88/449) /content/test.mp4: 192x320 (no detections), 85.8ms\n",
            "video 1/1 (frame 89/449) /content/test.mp4: 192x320 (no detections), 83.4ms\n",
            "video 1/1 (frame 90/449) /content/test.mp4: 192x320 (no detections), 82.6ms\n",
            "video 1/1 (frame 91/449) /content/test.mp4: 192x320 (no detections), 85.3ms\n",
            "video 1/1 (frame 92/449) /content/test.mp4: 192x320 (no detections), 83.8ms\n",
            "video 1/1 (frame 93/449) /content/test.mp4: 192x320 (no detections), 82.1ms\n",
            "video 1/1 (frame 94/449) /content/test.mp4: 192x320 (no detections), 81.8ms\n",
            "video 1/1 (frame 95/449) /content/test.mp4: 192x320 (no detections), 84.9ms\n",
            "video 1/1 (frame 96/449) /content/test.mp4: 192x320 (no detections), 107.8ms\n",
            "video 1/1 (frame 97/449) /content/test.mp4: 192x320 (no detections), 97.6ms\n",
            "video 1/1 (frame 98/449) /content/test.mp4: 192x320 (no detections), 91.4ms\n",
            "video 1/1 (frame 99/449) /content/test.mp4: 192x320 (no detections), 84.9ms\n",
            "video 1/1 (frame 100/449) /content/test.mp4: 192x320 (no detections), 91.4ms\n",
            "video 1/1 (frame 101/449) /content/test.mp4: 192x320 (no detections), 84.0ms\n",
            "video 1/1 (frame 102/449) /content/test.mp4: 192x320 (no detections), 82.6ms\n",
            "video 1/1 (frame 103/449) /content/test.mp4: 192x320 (no detections), 92.5ms\n",
            "video 1/1 (frame 104/449) /content/test.mp4: 192x320 (no detections), 84.3ms\n",
            "video 1/1 (frame 105/449) /content/test.mp4: 192x320 (no detections), 83.8ms\n",
            "video 1/1 (frame 106/449) /content/test.mp4: 192x320 (no detections), 94.9ms\n",
            "video 1/1 (frame 107/449) /content/test.mp4: 192x320 (no detections), 86.6ms\n",
            "video 1/1 (frame 108/449) /content/test.mp4: 192x320 (no detections), 92.4ms\n",
            "video 1/1 (frame 109/449) /content/test.mp4: 192x320 (no detections), 88.1ms\n",
            "video 1/1 (frame 110/449) /content/test.mp4: 192x320 (no detections), 84.4ms\n",
            "video 1/1 (frame 111/449) /content/test.mp4: 192x320 (no detections), 89.1ms\n",
            "video 1/1 (frame 112/449) /content/test.mp4: 192x320 (no detections), 82.6ms\n",
            "video 1/1 (frame 113/449) /content/test.mp4: 192x320 (no detections), 79.5ms\n",
            "video 1/1 (frame 114/449) /content/test.mp4: 192x320 (no detections), 59.9ms\n",
            "video 1/1 (frame 115/449) /content/test.mp4: 192x320 (no detections), 49.8ms\n",
            "video 1/1 (frame 116/449) /content/test.mp4: 192x320 (no detections), 49.7ms\n",
            "video 1/1 (frame 117/449) /content/test.mp4: 192x320 (no detections), 50.3ms\n",
            "video 1/1 (frame 118/449) /content/test.mp4: 192x320 (no detections), 59.2ms\n",
            "video 1/1 (frame 119/449) /content/test.mp4: 192x320 (no detections), 54.3ms\n",
            "video 1/1 (frame 120/449) /content/test.mp4: 192x320 (no detections), 60.8ms\n",
            "video 1/1 (frame 121/449) /content/test.mp4: 192x320 (no detections), 52.6ms\n",
            "video 1/1 (frame 122/449) /content/test.mp4: 192x320 (no detections), 51.6ms\n",
            "video 1/1 (frame 123/449) /content/test.mp4: 192x320 (no detections), 50.9ms\n",
            "video 1/1 (frame 124/449) /content/test.mp4: 192x320 (no detections), 50.8ms\n",
            "video 1/1 (frame 125/449) /content/test.mp4: 192x320 (no detections), 50.4ms\n",
            "video 1/1 (frame 126/449) /content/test.mp4: 192x320 (no detections), 51.3ms\n",
            "video 1/1 (frame 127/449) /content/test.mp4: 192x320 (no detections), 49.9ms\n",
            "video 1/1 (frame 128/449) /content/test.mp4: 192x320 (no detections), 50.6ms\n",
            "video 1/1 (frame 129/449) /content/test.mp4: 192x320 (no detections), 52.4ms\n",
            "video 1/1 (frame 130/449) /content/test.mp4: 192x320 (no detections), 50.8ms\n",
            "video 1/1 (frame 131/449) /content/test.mp4: 192x320 (no detections), 49.7ms\n",
            "video 1/1 (frame 132/449) /content/test.mp4: 192x320 1 Paper, 50.8ms\n",
            "video 1/1 (frame 133/449) /content/test.mp4: 192x320 1 Rock, 52.8ms\n",
            "video 1/1 (frame 134/449) /content/test.mp4: 192x320 1 Paper, 50.0ms\n",
            "video 1/1 (frame 135/449) /content/test.mp4: 192x320 1 Paper, 65.7ms\n",
            "video 1/1 (frame 136/449) /content/test.mp4: 192x320 1 Paper, 53.4ms\n",
            "video 1/1 (frame 137/449) /content/test.mp4: 192x320 1 Paper, 52.1ms\n",
            "video 1/1 (frame 138/449) /content/test.mp4: 192x320 1 Paper, 53.1ms\n",
            "video 1/1 (frame 139/449) /content/test.mp4: 192x320 2 Papers, 55.2ms\n",
            "video 1/1 (frame 140/449) /content/test.mp4: 192x320 2 Papers, 49.2ms\n",
            "video 1/1 (frame 141/449) /content/test.mp4: 192x320 3 Papers, 49.6ms\n",
            "video 1/1 (frame 142/449) /content/test.mp4: 192x320 2 Papers, 52.2ms\n",
            "video 1/1 (frame 143/449) /content/test.mp4: 192x320 2 Papers, 53.2ms\n",
            "video 1/1 (frame 144/449) /content/test.mp4: 192x320 2 Papers, 51.2ms\n",
            "video 1/1 (frame 145/449) /content/test.mp4: 192x320 2 Papers, 49.1ms\n",
            "video 1/1 (frame 146/449) /content/test.mp4: 192x320 3 Papers, 50.5ms\n",
            "video 1/1 (frame 147/449) /content/test.mp4: 192x320 3 Papers, 48.8ms\n",
            "video 1/1 (frame 148/449) /content/test.mp4: 192x320 3 Papers, 53.6ms\n",
            "video 1/1 (frame 149/449) /content/test.mp4: 192x320 3 Papers, 55.8ms\n",
            "video 1/1 (frame 150/449) /content/test.mp4: 192x320 3 Papers, 63.1ms\n",
            "video 1/1 (frame 151/449) /content/test.mp4: 192x320 2 Papers, 86.5ms\n",
            "video 1/1 (frame 152/449) /content/test.mp4: 192x320 2 Papers, 71.3ms\n",
            "video 1/1 (frame 153/449) /content/test.mp4: 192x320 2 Papers, 54.4ms\n",
            "video 1/1 (frame 154/449) /content/test.mp4: 192x320 1 Paper, 54.3ms\n",
            "video 1/1 (frame 155/449) /content/test.mp4: 192x320 1 Paper, 48.9ms\n",
            "video 1/1 (frame 156/449) /content/test.mp4: 192x320 1 Paper, 53.7ms\n",
            "video 1/1 (frame 157/449) /content/test.mp4: 192x320 1 Paper, 51.8ms\n",
            "video 1/1 (frame 158/449) /content/test.mp4: 192x320 1 Paper, 49.9ms\n",
            "video 1/1 (frame 159/449) /content/test.mp4: 192x320 1 Paper, 57.1ms\n",
            "video 1/1 (frame 160/449) /content/test.mp4: 192x320 1 Paper, 49.9ms\n",
            "video 1/1 (frame 161/449) /content/test.mp4: 192x320 1 Paper, 54.4ms\n",
            "video 1/1 (frame 162/449) /content/test.mp4: 192x320 1 Paper, 49.8ms\n",
            "video 1/1 (frame 163/449) /content/test.mp4: 192x320 1 Paper, 49.2ms\n",
            "video 1/1 (frame 164/449) /content/test.mp4: 192x320 1 Paper, 56.0ms\n",
            "video 1/1 (frame 165/449) /content/test.mp4: 192x320 1 Paper, 51.5ms\n",
            "video 1/1 (frame 166/449) /content/test.mp4: 192x320 2 Papers, 50.7ms\n",
            "video 1/1 (frame 167/449) /content/test.mp4: 192x320 2 Papers, 68.6ms\n",
            "video 1/1 (frame 168/449) /content/test.mp4: 192x320 2 Papers, 52.0ms\n",
            "video 1/1 (frame 169/449) /content/test.mp4: 192x320 2 Papers, 52.7ms\n",
            "video 1/1 (frame 170/449) /content/test.mp4: 192x320 2 Papers, 50.4ms\n",
            "video 1/1 (frame 171/449) /content/test.mp4: 192x320 2 Papers, 51.8ms\n",
            "video 1/1 (frame 172/449) /content/test.mp4: 192x320 2 Papers, 50.9ms\n",
            "video 1/1 (frame 173/449) /content/test.mp4: 192x320 2 Papers, 52.9ms\n",
            "video 1/1 (frame 174/449) /content/test.mp4: 192x320 2 Papers, 50.0ms\n",
            "video 1/1 (frame 175/449) /content/test.mp4: 192x320 2 Papers, 56.3ms\n",
            "video 1/1 (frame 176/449) /content/test.mp4: 192x320 2 Papers, 50.5ms\n",
            "video 1/1 (frame 177/449) /content/test.mp4: 192x320 2 Papers, 49.6ms\n",
            "video 1/1 (frame 178/449) /content/test.mp4: 192x320 2 Papers, 54.5ms\n",
            "video 1/1 (frame 179/449) /content/test.mp4: 192x320 2 Papers, 49.5ms\n",
            "video 1/1 (frame 180/449) /content/test.mp4: 192x320 2 Papers, 51.4ms\n",
            "video 1/1 (frame 181/449) /content/test.mp4: 192x320 1 Paper, 52.3ms\n",
            "video 1/1 (frame 182/449) /content/test.mp4: 192x320 1 Paper, 55.0ms\n",
            "video 1/1 (frame 183/449) /content/test.mp4: 192x320 1 Paper, 69.8ms\n",
            "video 1/1 (frame 184/449) /content/test.mp4: 192x320 1 Paper, 54.0ms\n",
            "video 1/1 (frame 185/449) /content/test.mp4: 192x320 2 Papers, 52.0ms\n",
            "video 1/1 (frame 186/449) /content/test.mp4: 192x320 1 Paper, 55.8ms\n",
            "video 1/1 (frame 187/449) /content/test.mp4: 192x320 1 Paper, 52.1ms\n",
            "video 1/1 (frame 188/449) /content/test.mp4: 192x320 (no detections), 52.5ms\n",
            "video 1/1 (frame 189/449) /content/test.mp4: 192x320 (no detections), 49.9ms\n",
            "video 1/1 (frame 190/449) /content/test.mp4: 192x320 1 Scissors, 50.0ms\n",
            "video 1/1 (frame 191/449) /content/test.mp4: 192x320 1 Scissors, 51.1ms\n",
            "video 1/1 (frame 192/449) /content/test.mp4: 192x320 2 Scissorss, 50.9ms\n",
            "video 1/1 (frame 193/449) /content/test.mp4: 192x320 1 Scissors, 49.4ms\n",
            "video 1/1 (frame 194/449) /content/test.mp4: 192x320 1 Scissors, 51.2ms\n",
            "video 1/1 (frame 195/449) /content/test.mp4: 192x320 2 Scissorss, 58.0ms\n",
            "video 1/1 (frame 196/449) /content/test.mp4: 192x320 3 Scissorss, 57.3ms\n",
            "video 1/1 (frame 197/449) /content/test.mp4: 192x320 1 Scissors, 54.3ms\n",
            "video 1/1 (frame 198/449) /content/test.mp4: 192x320 1 Scissors, 49.4ms\n",
            "video 1/1 (frame 199/449) /content/test.mp4: 192x320 1 Scissors, 65.2ms\n",
            "video 1/1 (frame 200/449) /content/test.mp4: 192x320 1 Scissors, 52.4ms\n",
            "video 1/1 (frame 201/449) /content/test.mp4: 192x320 1 Scissors, 53.5ms\n",
            "video 1/1 (frame 202/449) /content/test.mp4: 192x320 1 Scissors, 50.9ms\n",
            "video 1/1 (frame 203/449) /content/test.mp4: 192x320 1 Scissors, 49.7ms\n",
            "video 1/1 (frame 204/449) /content/test.mp4: 192x320 2 Scissorss, 49.7ms\n",
            "video 1/1 (frame 205/449) /content/test.mp4: 192x320 2 Scissorss, 48.7ms\n",
            "video 1/1 (frame 206/449) /content/test.mp4: 192x320 2 Scissorss, 49.6ms\n",
            "video 1/1 (frame 207/449) /content/test.mp4: 192x320 1 Scissors, 52.5ms\n",
            "video 1/1 (frame 208/449) /content/test.mp4: 192x320 2 Scissorss, 50.7ms\n",
            "video 1/1 (frame 209/449) /content/test.mp4: 192x320 2 Scissorss, 51.8ms\n",
            "video 1/1 (frame 210/449) /content/test.mp4: 192x320 2 Scissorss, 50.3ms\n",
            "video 1/1 (frame 211/449) /content/test.mp4: 192x320 2 Scissorss, 49.9ms\n",
            "video 1/1 (frame 212/449) /content/test.mp4: 192x320 2 Scissorss, 50.0ms\n",
            "video 1/1 (frame 213/449) /content/test.mp4: 192x320 2 Scissorss, 57.9ms\n",
            "video 1/1 (frame 214/449) /content/test.mp4: 192x320 2 Scissorss, 54.6ms\n",
            "video 1/1 (frame 215/449) /content/test.mp4: 192x320 2 Scissorss, 64.2ms\n",
            "video 1/1 (frame 216/449) /content/test.mp4: 192x320 2 Scissorss, 50.4ms\n",
            "video 1/1 (frame 217/449) /content/test.mp4: 192x320 2 Scissorss, 52.6ms\n",
            "video 1/1 (frame 218/449) /content/test.mp4: 192x320 2 Scissorss, 52.9ms\n",
            "video 1/1 (frame 219/449) /content/test.mp4: 192x320 2 Scissorss, 52.1ms\n",
            "video 1/1 (frame 220/449) /content/test.mp4: 192x320 2 Scissorss, 50.4ms\n",
            "video 1/1 (frame 221/449) /content/test.mp4: 192x320 2 Scissorss, 50.2ms\n",
            "video 1/1 (frame 222/449) /content/test.mp4: 192x320 2 Scissorss, 52.9ms\n",
            "video 1/1 (frame 223/449) /content/test.mp4: 192x320 2 Scissorss, 57.7ms\n",
            "video 1/1 (frame 224/449) /content/test.mp4: 192x320 2 Scissorss, 53.8ms\n",
            "video 1/1 (frame 225/449) /content/test.mp4: 192x320 2 Scissorss, 51.3ms\n",
            "video 1/1 (frame 226/449) /content/test.mp4: 192x320 2 Scissorss, 52.6ms\n",
            "video 1/1 (frame 227/449) /content/test.mp4: 192x320 2 Scissorss, 54.0ms\n",
            "video 1/1 (frame 228/449) /content/test.mp4: 192x320 2 Scissorss, 51.7ms\n",
            "video 1/1 (frame 229/449) /content/test.mp4: 192x320 2 Scissorss, 57.9ms\n",
            "video 1/1 (frame 230/449) /content/test.mp4: 192x320 2 Scissorss, 52.2ms\n",
            "video 1/1 (frame 231/449) /content/test.mp4: 192x320 2 Scissorss, 66.4ms\n",
            "video 1/1 (frame 232/449) /content/test.mp4: 192x320 2 Scissorss, 51.0ms\n",
            "video 1/1 (frame 233/449) /content/test.mp4: 192x320 2 Scissorss, 50.6ms\n",
            "video 1/1 (frame 234/449) /content/test.mp4: 192x320 2 Scissorss, 49.8ms\n",
            "video 1/1 (frame 235/449) /content/test.mp4: 192x320 2 Scissorss, 53.6ms\n",
            "video 1/1 (frame 236/449) /content/test.mp4: 192x320 2 Scissorss, 52.4ms\n",
            "video 1/1 (frame 237/449) /content/test.mp4: 192x320 2 Scissorss, 50.1ms\n",
            "video 1/1 (frame 238/449) /content/test.mp4: 192x320 2 Scissorss, 50.0ms\n",
            "video 1/1 (frame 239/449) /content/test.mp4: 192x320 2 Scissorss, 50.2ms\n",
            "video 1/1 (frame 240/449) /content/test.mp4: 192x320 2 Scissorss, 52.6ms\n",
            "video 1/1 (frame 241/449) /content/test.mp4: 192x320 2 Scissorss, 52.7ms\n",
            "video 1/1 (frame 242/449) /content/test.mp4: 192x320 2 Scissorss, 50.3ms\n",
            "video 1/1 (frame 243/449) /content/test.mp4: 192x320 2 Scissorss, 50.2ms\n",
            "video 1/1 (frame 244/449) /content/test.mp4: 192x320 2 Scissorss, 53.7ms\n",
            "video 1/1 (frame 245/449) /content/test.mp4: 192x320 2 Scissorss, 48.1ms\n",
            "video 1/1 (frame 246/449) /content/test.mp4: 192x320 2 Scissorss, 59.6ms\n",
            "video 1/1 (frame 247/449) /content/test.mp4: 192x320 2 Scissorss, 56.9ms\n",
            "video 1/1 (frame 248/449) /content/test.mp4: 192x320 2 Scissorss, 55.1ms\n",
            "video 1/1 (frame 249/449) /content/test.mp4: 192x320 2 Scissorss, 49.7ms\n",
            "video 1/1 (frame 250/449) /content/test.mp4: 192x320 1 Paper, 2 Scissorss, 51.9ms\n",
            "video 1/1 (frame 251/449) /content/test.mp4: 192x320 1 Paper, 1 Scissors, 50.9ms\n",
            "video 1/1 (frame 252/449) /content/test.mp4: 192x320 1 Paper, 1 Scissors, 52.2ms\n",
            "video 1/1 (frame 253/449) /content/test.mp4: 192x320 1 Paper, 1 Scissors, 48.4ms\n",
            "video 1/1 (frame 254/449) /content/test.mp4: 192x320 1 Paper, 1 Scissors, 50.2ms\n",
            "video 1/1 (frame 255/449) /content/test.mp4: 192x320 1 Paper, 1 Scissors, 52.6ms\n",
            "video 1/1 (frame 256/449) /content/test.mp4: 192x320 1 Paper, 1 Scissors, 50.8ms\n",
            "video 1/1 (frame 257/449) /content/test.mp4: 192x320 1 Paper, 1 Scissors, 54.6ms\n",
            "video 1/1 (frame 258/449) /content/test.mp4: 192x320 1 Paper, 1 Scissors, 50.0ms\n",
            "video 1/1 (frame 259/449) /content/test.mp4: 192x320 1 Paper, 1 Scissors, 51.3ms\n",
            "video 1/1 (frame 260/449) /content/test.mp4: 192x320 1 Paper, 1 Scissors, 57.7ms\n",
            "video 1/1 (frame 261/449) /content/test.mp4: 192x320 1 Paper, 1 Scissors, 50.3ms\n",
            "video 1/1 (frame 262/449) /content/test.mp4: 192x320 1 Paper, 1 Scissors, 52.4ms\n",
            "video 1/1 (frame 263/449) /content/test.mp4: 192x320 2 Scissorss, 50.6ms\n",
            "video 1/1 (frame 264/449) /content/test.mp4: 192x320 2 Scissorss, 62.2ms\n",
            "video 1/1 (frame 265/449) /content/test.mp4: 192x320 2 Scissorss, 53.2ms\n",
            "video 1/1 (frame 266/449) /content/test.mp4: 192x320 2 Scissorss, 50.9ms\n",
            "video 1/1 (frame 267/449) /content/test.mp4: 192x320 2 Scissorss, 52.5ms\n",
            "video 1/1 (frame 268/449) /content/test.mp4: 192x320 2 Scissorss, 54.5ms\n",
            "video 1/1 (frame 269/449) /content/test.mp4: 192x320 2 Scissorss, 53.1ms\n",
            "video 1/1 (frame 270/449) /content/test.mp4: 192x320 2 Scissorss, 78.6ms\n",
            "video 1/1 (frame 271/449) /content/test.mp4: 192x320 2 Scissorss, 84.6ms\n",
            "video 1/1 (frame 272/449) /content/test.mp4: 192x320 2 Scissorss, 79.2ms\n",
            "video 1/1 (frame 273/449) /content/test.mp4: 192x320 2 Scissorss, 78.0ms\n",
            "video 1/1 (frame 274/449) /content/test.mp4: 192x320 2 Scissorss, 76.5ms\n",
            "video 1/1 (frame 275/449) /content/test.mp4: 192x320 2 Scissorss, 78.3ms\n",
            "video 1/1 (frame 276/449) /content/test.mp4: 192x320 2 Scissorss, 78.1ms\n",
            "video 1/1 (frame 277/449) /content/test.mp4: 192x320 2 Scissorss, 84.7ms\n",
            "video 1/1 (frame 278/449) /content/test.mp4: 192x320 2 Scissorss, 79.0ms\n",
            "video 1/1 (frame 279/449) /content/test.mp4: 192x320 2 Scissorss, 74.8ms\n",
            "video 1/1 (frame 280/449) /content/test.mp4: 192x320 2 Scissorss, 78.1ms\n",
            "video 1/1 (frame 281/449) /content/test.mp4: 192x320 2 Scissorss, 74.1ms\n",
            "video 1/1 (frame 282/449) /content/test.mp4: 192x320 2 Scissorss, 80.7ms\n",
            "video 1/1 (frame 283/449) /content/test.mp4: 192x320 2 Scissorss, 90.3ms\n",
            "video 1/1 (frame 284/449) /content/test.mp4: 192x320 2 Scissorss, 77.5ms\n",
            "video 1/1 (frame 285/449) /content/test.mp4: 192x320 2 Scissorss, 85.4ms\n",
            "video 1/1 (frame 286/449) /content/test.mp4: 192x320 2 Scissorss, 75.7ms\n",
            "video 1/1 (frame 287/449) /content/test.mp4: 192x320 2 Scissorss, 87.7ms\n",
            "video 1/1 (frame 288/449) /content/test.mp4: 192x320 2 Scissorss, 92.4ms\n",
            "video 1/1 (frame 289/449) /content/test.mp4: 192x320 2 Scissorss, 78.6ms\n",
            "video 1/1 (frame 290/449) /content/test.mp4: 192x320 2 Scissorss, 81.6ms\n",
            "video 1/1 (frame 291/449) /content/test.mp4: 192x320 2 Scissorss, 77.6ms\n",
            "video 1/1 (frame 292/449) /content/test.mp4: 192x320 1 Scissors, 81.9ms\n",
            "video 1/1 (frame 293/449) /content/test.mp4: 192x320 1 Paper, 1 Scissors, 84.4ms\n",
            "video 1/1 (frame 294/449) /content/test.mp4: 192x320 1 Rock, 1 Scissors, 86.7ms\n",
            "video 1/1 (frame 295/449) /content/test.mp4: 192x320 1 Scissors, 78.5ms\n",
            "video 1/1 (frame 296/449) /content/test.mp4: 192x320 1 Scissors, 83.7ms\n",
            "video 1/1 (frame 297/449) /content/test.mp4: 192x320 1 Scissors, 76.2ms\n",
            "video 1/1 (frame 298/449) /content/test.mp4: 192x320 1 Paper, 1 Scissors, 82.3ms\n",
            "video 1/1 (frame 299/449) /content/test.mp4: 192x320 1 Scissors, 82.3ms\n",
            "video 1/1 (frame 300/449) /content/test.mp4: 192x320 1 Scissors, 89.8ms\n",
            "video 1/1 (frame 301/449) /content/test.mp4: 192x320 1 Scissors, 80.7ms\n",
            "video 1/1 (frame 302/449) /content/test.mp4: 192x320 1 Paper, 1 Scissors, 84.3ms\n",
            "video 1/1 (frame 303/449) /content/test.mp4: 192x320 1 Paper, 1 Scissors, 87.3ms\n",
            "video 1/1 (frame 304/449) /content/test.mp4: 192x320 1 Scissors, 85.5ms\n",
            "video 1/1 (frame 305/449) /content/test.mp4: 192x320 2 Papers, 84.7ms\n",
            "video 1/1 (frame 306/449) /content/test.mp4: 192x320 1 Paper, 1 Rock, 86.7ms\n",
            "video 1/1 (frame 307/449) /content/test.mp4: 192x320 1 Rock, 81.7ms\n",
            "video 1/1 (frame 308/449) /content/test.mp4: 192x320 (no detections), 82.0ms\n",
            "video 1/1 (frame 309/449) /content/test.mp4: 192x320 1 Rock, 96.3ms\n",
            "video 1/1 (frame 310/449) /content/test.mp4: 192x320 1 Rock, 1 Scissors, 83.0ms\n",
            "video 1/1 (frame 311/449) /content/test.mp4: 192x320 1 Rock, 1 Scissors, 82.6ms\n",
            "video 1/1 (frame 312/449) /content/test.mp4: 192x320 1 Rock, 1 Scissors, 88.8ms\n",
            "video 1/1 (frame 313/449) /content/test.mp4: 192x320 (no detections), 85.7ms\n",
            "video 1/1 (frame 314/449) /content/test.mp4: 192x320 (no detections), 92.1ms\n",
            "video 1/1 (frame 315/449) /content/test.mp4: 192x320 1 Rock, 1 Scissors, 83.3ms\n",
            "video 1/1 (frame 316/449) /content/test.mp4: 192x320 1 Rock, 1 Scissors, 85.0ms\n",
            "video 1/1 (frame 317/449) /content/test.mp4: 192x320 1 Rock, 1 Scissors, 81.7ms\n",
            "video 1/1 (frame 318/449) /content/test.mp4: 192x320 1 Scissors, 82.1ms\n",
            "video 1/1 (frame 319/449) /content/test.mp4: 192x320 1 Scissors, 101.6ms\n",
            "video 1/1 (frame 320/449) /content/test.mp4: 192x320 (no detections), 82.8ms\n",
            "video 1/1 (frame 321/449) /content/test.mp4: 192x320 1 Scissors, 86.3ms\n",
            "video 1/1 (frame 322/449) /content/test.mp4: 192x320 1 Scissors, 83.2ms\n",
            "video 1/1 (frame 323/449) /content/test.mp4: 192x320 1 Scissors, 91.0ms\n",
            "video 1/1 (frame 324/449) /content/test.mp4: 192x320 1 Scissors, 80.5ms\n",
            "video 1/1 (frame 325/449) /content/test.mp4: 192x320 1 Scissors, 80.2ms\n",
            "video 1/1 (frame 326/449) /content/test.mp4: 192x320 1 Scissors, 83.0ms\n",
            "video 1/1 (frame 327/449) /content/test.mp4: 192x320 1 Scissors, 82.1ms\n",
            "video 1/1 (frame 328/449) /content/test.mp4: 192x320 1 Scissors, 84.1ms\n",
            "video 1/1 (frame 329/449) /content/test.mp4: 192x320 1 Scissors, 61.8ms\n",
            "video 1/1 (frame 330/449) /content/test.mp4: 192x320 1 Scissors, 69.2ms\n",
            "video 1/1 (frame 331/449) /content/test.mp4: 192x320 1 Scissors, 49.8ms\n",
            "video 1/1 (frame 332/449) /content/test.mp4: 192x320 1 Scissors, 50.5ms\n",
            "video 1/1 (frame 333/449) /content/test.mp4: 192x320 1 Scissors, 52.5ms\n",
            "video 1/1 (frame 334/449) /content/test.mp4: 192x320 1 Scissors, 49.3ms\n",
            "video 1/1 (frame 335/449) /content/test.mp4: 192x320 1 Scissors, 57.3ms\n",
            "video 1/1 (frame 336/449) /content/test.mp4: 192x320 1 Scissors, 57.9ms\n",
            "video 1/1 (frame 337/449) /content/test.mp4: 192x320 1 Scissors, 52.7ms\n",
            "video 1/1 (frame 338/449) /content/test.mp4: 192x320 2 Scissorss, 56.7ms\n",
            "video 1/1 (frame 339/449) /content/test.mp4: 192x320 1 Scissors, 51.9ms\n",
            "video 1/1 (frame 340/449) /content/test.mp4: 192x320 1 Scissors, 53.4ms\n",
            "video 1/1 (frame 341/449) /content/test.mp4: 192x320 2 Scissorss, 51.1ms\n",
            "video 1/1 (frame 342/449) /content/test.mp4: 192x320 2 Scissorss, 50.1ms\n",
            "video 1/1 (frame 343/449) /content/test.mp4: 192x320 2 Scissorss, 52.7ms\n",
            "video 1/1 (frame 344/449) /content/test.mp4: 192x320 2 Scissorss, 55.1ms\n",
            "video 1/1 (frame 345/449) /content/test.mp4: 192x320 2 Scissorss, 52.9ms\n",
            "video 1/1 (frame 346/449) /content/test.mp4: 192x320 2 Scissorss, 63.7ms\n",
            "video 1/1 (frame 347/449) /content/test.mp4: 192x320 2 Scissorss, 50.0ms\n",
            "video 1/1 (frame 348/449) /content/test.mp4: 192x320 2 Scissorss, 53.0ms\n",
            "video 1/1 (frame 349/449) /content/test.mp4: 192x320 1 Scissors, 55.5ms\n",
            "video 1/1 (frame 350/449) /content/test.mp4: 192x320 1 Scissors, 53.7ms\n",
            "video 1/1 (frame 351/449) /content/test.mp4: 192x320 1 Scissors, 68.0ms\n",
            "video 1/1 (frame 352/449) /content/test.mp4: 192x320 1 Scissors, 54.5ms\n",
            "video 1/1 (frame 353/449) /content/test.mp4: 192x320 1 Scissors, 52.7ms\n",
            "video 1/1 (frame 354/449) /content/test.mp4: 192x320 1 Scissors, 55.6ms\n",
            "video 1/1 (frame 355/449) /content/test.mp4: 192x320 1 Scissors, 50.5ms\n",
            "video 1/1 (frame 356/449) /content/test.mp4: 192x320 1 Paper, 1 Scissors, 49.5ms\n",
            "video 1/1 (frame 357/449) /content/test.mp4: 192x320 1 Paper, 1 Scissors, 53.1ms\n",
            "video 1/1 (frame 358/449) /content/test.mp4: 192x320 1 Paper, 1 Scissors, 50.6ms\n",
            "video 1/1 (frame 359/449) /content/test.mp4: 192x320 1 Paper, 1 Scissors, 52.9ms\n",
            "video 1/1 (frame 360/449) /content/test.mp4: 192x320 1 Scissors, 55.1ms\n",
            "video 1/1 (frame 361/449) /content/test.mp4: 192x320 2 Scissorss, 50.2ms\n",
            "video 1/1 (frame 362/449) /content/test.mp4: 192x320 1 Scissors, 63.9ms\n",
            "video 1/1 (frame 363/449) /content/test.mp4: 192x320 1 Scissors, 52.1ms\n",
            "video 1/1 (frame 364/449) /content/test.mp4: 192x320 1 Scissors, 49.5ms\n",
            "video 1/1 (frame 365/449) /content/test.mp4: 192x320 (no detections), 54.4ms\n",
            "video 1/1 (frame 366/449) /content/test.mp4: 192x320 (no detections), 54.9ms\n",
            "video 1/1 (frame 367/449) /content/test.mp4: 192x320 (no detections), 53.6ms\n",
            "video 1/1 (frame 368/449) /content/test.mp4: 192x320 (no detections), 51.1ms\n",
            "video 1/1 (frame 369/449) /content/test.mp4: 192x320 1 Scissors, 53.2ms\n",
            "video 1/1 (frame 370/449) /content/test.mp4: 192x320 (no detections), 51.1ms\n",
            "video 1/1 (frame 371/449) /content/test.mp4: 192x320 1 Scissors, 55.9ms\n",
            "video 1/1 (frame 372/449) /content/test.mp4: 192x320 1 Scissors, 50.7ms\n",
            "video 1/1 (frame 373/449) /content/test.mp4: 192x320 1 Scissors, 49.0ms\n",
            "video 1/1 (frame 374/449) /content/test.mp4: 192x320 1 Scissors, 57.2ms\n",
            "video 1/1 (frame 375/449) /content/test.mp4: 192x320 1 Paper, 1 Scissors, 51.2ms\n",
            "video 1/1 (frame 376/449) /content/test.mp4: 192x320 1 Scissors, 53.3ms\n",
            "video 1/1 (frame 377/449) /content/test.mp4: 192x320 1 Paper, 1 Scissors, 52.4ms\n",
            "video 1/1 (frame 378/449) /content/test.mp4: 192x320 1 Paper, 1 Scissors, 61.9ms\n",
            "video 1/1 (frame 379/449) /content/test.mp4: 192x320 1 Paper, 1 Rock, 1 Scissors, 55.4ms\n",
            "video 1/1 (frame 380/449) /content/test.mp4: 192x320 1 Paper, 1 Scissors, 50.3ms\n",
            "video 1/1 (frame 381/449) /content/test.mp4: 192x320 1 Paper, 1 Scissors, 51.0ms\n",
            "video 1/1 (frame 382/449) /content/test.mp4: 192x320 1 Paper, 1 Rock, 59.5ms\n",
            "video 1/1 (frame 383/449) /content/test.mp4: 192x320 1 Paper, 1 Rock, 49.5ms\n",
            "video 1/1 (frame 384/449) /content/test.mp4: 192x320 1 Paper, 1 Rock, 50.1ms\n",
            "video 1/1 (frame 385/449) /content/test.mp4: 192x320 1 Paper, 1 Rock, 50.4ms\n",
            "video 1/1 (frame 386/449) /content/test.mp4: 192x320 1 Paper, 1 Rock, 50.4ms\n",
            "video 1/1 (frame 387/449) /content/test.mp4: 192x320 1 Paper, 1 Rock, 52.8ms\n",
            "video 1/1 (frame 388/449) /content/test.mp4: 192x320 1 Paper, 1 Rock, 54.1ms\n",
            "video 1/1 (frame 389/449) /content/test.mp4: 192x320 1 Paper, 1 Rock, 1 Scissors, 50.1ms\n",
            "video 1/1 (frame 390/449) /content/test.mp4: 192x320 1 Paper, 1 Scissors, 50.1ms\n",
            "video 1/1 (frame 391/449) /content/test.mp4: 192x320 1 Paper, 1 Scissors, 52.6ms\n",
            "video 1/1 (frame 392/449) /content/test.mp4: 192x320 1 Paper, 1 Scissors, 56.9ms\n",
            "video 1/1 (frame 393/449) /content/test.mp4: 192x320 1 Paper, 1 Rock, 1 Scissors, 51.6ms\n",
            "video 1/1 (frame 394/449) /content/test.mp4: 192x320 1 Paper, 1 Rock, 63.1ms\n",
            "video 1/1 (frame 395/449) /content/test.mp4: 192x320 1 Paper, 1 Rock, 1 Scissors, 49.5ms\n",
            "video 1/1 (frame 396/449) /content/test.mp4: 192x320 2 Papers, 1 Rock, 53.5ms\n",
            "video 1/1 (frame 397/449) /content/test.mp4: 192x320 (no detections), 50.1ms\n",
            "video 1/1 (frame 398/449) /content/test.mp4: 192x320 1 Paper, 1 Rock, 58.6ms\n",
            "video 1/1 (frame 399/449) /content/test.mp4: 192x320 1 Paper, 1 Rock, 49.8ms\n",
            "video 1/1 (frame 400/449) /content/test.mp4: 192x320 1 Paper, 1 Rock, 52.1ms\n",
            "video 1/1 (frame 401/449) /content/test.mp4: 192x320 1 Paper, 1 Rock, 54.6ms\n",
            "video 1/1 (frame 402/449) /content/test.mp4: 192x320 2 Papers, 1 Rock, 49.0ms\n",
            "video 1/1 (frame 403/449) /content/test.mp4: 192x320 1 Paper, 1 Rock, 57.5ms\n",
            "video 1/1 (frame 404/449) /content/test.mp4: 192x320 1 Paper, 49.9ms\n",
            "video 1/1 (frame 405/449) /content/test.mp4: 192x320 1 Paper, 48.9ms\n",
            "video 1/1 (frame 406/449) /content/test.mp4: 192x320 1 Paper, 1 Rock, 54.0ms\n",
            "video 1/1 (frame 407/449) /content/test.mp4: 192x320 1 Rock, 53.8ms\n",
            "video 1/1 (frame 408/449) /content/test.mp4: 192x320 (no detections), 51.4ms\n",
            "video 1/1 (frame 409/449) /content/test.mp4: 192x320 (no detections), 50.7ms\n",
            "video 1/1 (frame 410/449) /content/test.mp4: 192x320 (no detections), 64.5ms\n",
            "video 1/1 (frame 411/449) /content/test.mp4: 192x320 1 Rock, 51.1ms\n",
            "video 1/1 (frame 412/449) /content/test.mp4: 192x320 (no detections), 52.4ms\n",
            "video 1/1 (frame 413/449) /content/test.mp4: 192x320 (no detections), 51.0ms\n",
            "video 1/1 (frame 414/449) /content/test.mp4: 192x320 (no detections), 57.7ms\n",
            "video 1/1 (frame 415/449) /content/test.mp4: 192x320 (no detections), 53.7ms\n",
            "video 1/1 (frame 416/449) /content/test.mp4: 192x320 1 Rock, 53.2ms\n",
            "video 1/1 (frame 417/449) /content/test.mp4: 192x320 1 Rock, 58.8ms\n",
            "video 1/1 (frame 418/449) /content/test.mp4: 192x320 1 Paper, 50.0ms\n",
            "video 1/1 (frame 419/449) /content/test.mp4: 192x320 (no detections), 60.1ms\n",
            "video 1/1 (frame 420/449) /content/test.mp4: 192x320 1 Scissors, 53.4ms\n",
            "video 1/1 (frame 421/449) /content/test.mp4: 192x320 (no detections), 50.7ms\n",
            "video 1/1 (frame 422/449) /content/test.mp4: 192x320 (no detections), 58.9ms\n",
            "video 1/1 (frame 423/449) /content/test.mp4: 192x320 1 Rock, 53.9ms\n",
            "video 1/1 (frame 424/449) /content/test.mp4: 192x320 1 Rock, 54.9ms\n",
            "video 1/1 (frame 425/449) /content/test.mp4: 192x320 (no detections), 49.6ms\n",
            "video 1/1 (frame 426/449) /content/test.mp4: 192x320 (no detections), 65.8ms\n",
            "video 1/1 (frame 427/449) /content/test.mp4: 192x320 (no detections), 53.9ms\n",
            "video 1/1 (frame 428/449) /content/test.mp4: 192x320 (no detections), 53.3ms\n",
            "video 1/1 (frame 429/449) /content/test.mp4: 192x320 (no detections), 65.4ms\n",
            "video 1/1 (frame 430/449) /content/test.mp4: 192x320 1 Paper, 51.3ms\n",
            "video 1/1 (frame 431/449) /content/test.mp4: 192x320 2 Papers, 52.6ms\n",
            "video 1/1 (frame 432/449) /content/test.mp4: 192x320 1 Paper, 54.2ms\n",
            "video 1/1 (frame 433/449) /content/test.mp4: 192x320 2 Papers, 50.2ms\n",
            "video 1/1 (frame 434/449) /content/test.mp4: 192x320 1 Paper, 53.4ms\n",
            "video 1/1 (frame 435/449) /content/test.mp4: 192x320 1 Scissors, 51.2ms\n",
            "video 1/1 (frame 436/449) /content/test.mp4: 192x320 1 Paper, 49.9ms\n",
            "video 1/1 (frame 437/449) /content/test.mp4: 192x320 1 Scissors, 55.9ms\n",
            "video 1/1 (frame 438/449) /content/test.mp4: 192x320 1 Paper, 51.4ms\n",
            "video 1/1 (frame 439/449) /content/test.mp4: 192x320 (no detections), 51.1ms\n",
            "video 1/1 (frame 440/449) /content/test.mp4: 192x320 1 Rock, 51.0ms\n",
            "video 1/1 (frame 441/449) /content/test.mp4: 192x320 1 Rock, 49.8ms\n",
            "video 1/1 (frame 442/449) /content/test.mp4: 192x320 1 Rock, 65.1ms\n",
            "video 1/1 (frame 443/449) /content/test.mp4: 192x320 1 Scissors, 52.1ms\n",
            "video 1/1 (frame 444/449) /content/test.mp4: 192x320 1 Scissors, 54.3ms\n",
            "video 1/1 (frame 445/449) /content/test.mp4: 192x320 1 Paper, 57.6ms\n",
            "video 1/1 (frame 446/449) /content/test.mp4: 192x320 1 Paper, 55.4ms\n",
            "video 1/1 (frame 447/449) /content/test.mp4: 192x320 1 Paper, 52.1ms\n",
            "video 1/1 (frame 448/449) /content/test.mp4: 192x320 (no detections), 49.6ms\n",
            "video 1/1 (frame 449/449) /content/test.mp4: 192x320 (no detections), 50.6ms\n",
            "Speed: 1.3ms preprocess, 61.4ms inference, 0.9ms postprocess per image at shape (1, 3, 192, 320)\n",
            "Results saved to \u001b[1mruns/detect/predict2\u001b[0m\n",
            "💡 Learn more at https://docs.ultralytics.com/modes/predict\n"
          ]
        }
      ],
      "source": [
        "!yolo task=detect mode=predict conf=0.50 save=True model=/content/drive/MyDrive/Yolo-results/RPSS2/train3/weights/best.pt source=/content/test.mp4"
      ]
    },
    {
      "cell_type": "code",
      "execution_count": null,
      "metadata": {
        "id": "uIECNo0ziapW"
      },
      "outputs": [],
      "source": []
    }
  ],
  "metadata": {
    "accelerator": "TPU",
    "colab": {
      "gpuType": "V28",
      "provenance": [],
      "collapsed_sections": [
        "-a5rGAtTlA2w"
      ]
    },
    "kernelspec": {
      "display_name": "Python 3",
      "name": "python3"
    },
    "language_info": {
      "name": "python"
    }
  },
  "nbformat": 4,
  "nbformat_minor": 0
}